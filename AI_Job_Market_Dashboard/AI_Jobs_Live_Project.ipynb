{
  "cells": [
    {
      "cell_type": "markdown",
      "id": "cd734c63-f994-4f83-ad2f-84f326ea0392",
      "metadata": {
        "id": "cd734c63-f994-4f83-ad2f-84f326ea0392"
      },
      "source": [
        "# AI Job Board Scraper\n",
        "\n",
        "Code authored by: Siva"
      ]
    },
    {
      "cell_type": "code",
      "source": [
        "!mkdir data"
      ],
      "metadata": {
        "id": "1_sjBwfTNfeM"
      },
      "id": "1_sjBwfTNfeM",
      "execution_count": null,
      "outputs": []
    },
    {
      "cell_type": "code",
      "source": [
        "!pip install ipykernel jupyterlab numpy pandas plotly streamlit requests beautifulsoup4 pyngrok --quiet"
      ],
      "metadata": {
        "colab": {
          "base_uri": "https://localhost:8080/"
        },
        "id": "rK3hVUgFMxMK",
        "outputId": "241b4f8b-a540-4dd2-d2d2-a7167190ec5e"
      },
      "id": "rK3hVUgFMxMK",
      "execution_count": 3,
      "outputs": [
        {
          "output_type": "stream",
          "name": "stdout",
          "text": [
            "\u001b[2K   \u001b[90m━━━━━━━━━━━━━━━━━━━━━━━━━━━━━━━━━━━━━━━━\u001b[0m \u001b[32m12.3/12.3 MB\u001b[0m \u001b[31m94.4 MB/s\u001b[0m eta \u001b[36m0:00:00\u001b[0m\n",
            "\u001b[2K   \u001b[90m━━━━━━━━━━━━━━━━━━━━━━━━━━━━━━━━━━━━━━━━\u001b[0m \u001b[32m10.1/10.1 MB\u001b[0m \u001b[31m89.5 MB/s\u001b[0m eta \u001b[36m0:00:00\u001b[0m\n",
            "\u001b[2K   \u001b[90m━━━━━━━━━━━━━━━━━━━━━━━━━━━━━━━━━━━━━━━━\u001b[0m \u001b[32m76.7/76.7 kB\u001b[0m \u001b[31m5.3 MB/s\u001b[0m eta \u001b[36m0:00:00\u001b[0m\n",
            "\u001b[2K   \u001b[90m━━━━━━━━━━━━━━━━━━━━━━━━━━━━━━━━━━━━━━━━\u001b[0m \u001b[32m59.7/59.7 kB\u001b[0m \u001b[31m3.7 MB/s\u001b[0m eta \u001b[36m0:00:00\u001b[0m\n",
            "\u001b[2K   \u001b[90m━━━━━━━━━━━━━━━━━━━━━━━━━━━━━━━━━━━━━━━━\u001b[0m \u001b[32m6.9/6.9 MB\u001b[0m \u001b[31m94.1 MB/s\u001b[0m eta \u001b[36m0:00:00\u001b[0m\n",
            "\u001b[2K   \u001b[90m━━━━━━━━━━━━━━━━━━━━━━━━━━━━━━━━━━━━━━━━\u001b[0m \u001b[32m1.6/1.6 MB\u001b[0m \u001b[31m54.6 MB/s\u001b[0m eta \u001b[36m0:00:00\u001b[0m\n",
            "\u001b[?25h"
          ]
        }
      ]
    },
    {
      "cell_type": "markdown",
      "id": "b178c12b-e78a-49ae-861b-9d8c2e920a1e",
      "metadata": {
        "id": "b178c12b-e78a-49ae-861b-9d8c2e920a1e"
      },
      "source": [
        "### imports"
      ]
    },
    {
      "cell_type": "code",
      "execution_count": 4,
      "id": "ca7ee9cf-cfd9-417f-a5f5-bcf026ed9a63",
      "metadata": {
        "id": "ca7ee9cf-cfd9-417f-a5f5-bcf026ed9a63"
      },
      "outputs": [],
      "source": [
        "import requests\n",
        "from bs4 import BeautifulSoup\n",
        "from urllib.parse import urljoin\n",
        "import re\n",
        "import pandas as pd"
      ]
    },
    {
      "cell_type": "markdown",
      "id": "78fc59d2-6450-4fbe-8ce1-4fa56970bf60",
      "metadata": {
        "id": "78fc59d2-6450-4fbe-8ce1-4fa56970bf60"
      },
      "source": [
        "### grab job urls from webpage"
      ]
    },
    {
      "cell_type": "code",
      "execution_count": 5,
      "id": "d3de4836-bca8-4112-9d69-f770160bd48a",
      "metadata": {
        "id": "d3de4836-bca8-4112-9d69-f770160bd48a"
      },
      "outputs": [],
      "source": [
        "base_url = \"https://aijobs.ai/united-states\""
      ]
    },
    {
      "cell_type": "code",
      "execution_count": 6,
      "id": "a228a6b2-7a22-4f48-8e9e-b1b26a5f7a47",
      "metadata": {
        "id": "a228a6b2-7a22-4f48-8e9e-b1b26a5f7a47"
      },
      "outputs": [],
      "source": [
        "res = requests.get(base_url)\n",
        "soup = BeautifulSoup(res.text, \"html.parser\")"
      ]
    },
    {
      "cell_type": "code",
      "execution_count": 7,
      "id": "e560197a-4ed6-478f-86ab-22f8e28f9073",
      "metadata": {
        "scrolled": true,
        "id": "e560197a-4ed6-478f-86ab-22f8e28f9073"
      },
      "outputs": [],
      "source": [
        "# find all <a> tags where the href contains \"/job/\"\n",
        "a_tags = soup.select('a[href*=\"/job/\"]')\n",
        "\n",
        "# Step 2: go through each <a> tag and get the link\n",
        "job_links = []\n",
        "for tag in a_tags:\n",
        "    href = tag.get(\"href\")   # get the link from the tag\n",
        "    if href:                 # make sure it’s not empty\n",
        "        full_url = urljoin(base_url, href)  # turn relative into absolute\n",
        "        job_links.append(full_url)"
      ]
    },
    {
      "cell_type": "code",
      "execution_count": 8,
      "id": "74e31ea4-e6ce-4c26-a886-4efce1bc82f4",
      "metadata": {
        "colab": {
          "base_uri": "https://localhost:8080/"
        },
        "id": "74e31ea4-e6ce-4c26-a886-4efce1bc82f4",
        "outputId": "513e9e5b-0c23-4338-806f-22a4a46f9fba"
      },
      "outputs": [
        {
          "output_type": "execute_result",
          "data": {
            "text/plain": [
              "['https://aijobs.ai/job/bioacoustics-machine-learning-post-doctoral-associate',\n",
              " 'https://aijobs.ai/job/ai-fellows-12-month-lte',\n",
              " 'https://aijobs.ai/job/senior-software-engineer-agents',\n",
              " 'https://aijobs.ai/job/lead-software-engineer-ml-backend',\n",
              " 'https://aijobs.ai/job/staff-engineer-software-autonomy-applications-r3166-3',\n",
              " 'https://aijobs.ai/job/ml-application-security-engineer',\n",
              " 'https://aijobs.ai/job/solutions-engineering-senior-manager',\n",
              " 'https://aijobs.ai/job/ml-engineer-llm-evaluation',\n",
              " 'https://aijobs.ai/job/ml-engineer-llm-safety',\n",
              " 'https://aijobs.ai/job/ml-engineer-llm-privacy',\n",
              " 'https://aijobs.ai/job/ml-research-scientist-llm-safety',\n",
              " 'https://aijobs.ai/job/staff-software-engineer-34',\n",
              " 'https://aijobs.ai/job/ml-research-engineer-llm-safety',\n",
              " 'https://aijobs.ai/job/technical-product-manager-47',\n",
              " 'https://aijobs.ai/job/study-participant-on-site-research-study',\n",
              " 'https://aijobs.ai/job/machine-learning-engineer-graduate-e-commerce-supply-chain-logistics-2026-start-phd-1',\n",
              " 'https://aijobs.ai/job/head-of-ai-solutions-2',\n",
              " 'https://aijobs.ai/job/research-scientist-in-quantum-chemistry-and-machine-learning',\n",
              " 'https://aijobs.ai/job/senior-accountant-45',\n",
              " 'https://aijobs.ai/job/senior-data-scientist-4165',\n",
              " 'https://aijobs.ai/job/machine-learning-engineer-graduate-tiktok-e-commerce-conversational-ai-2026-start-phd-1',\n",
              " 'https://aijobs.ai/job/software-engineer-systems-ml-frameworks-compilers-kernels']"
            ]
          },
          "metadata": {},
          "execution_count": 8
        }
      ],
      "source": [
        "job_links"
      ]
    },
    {
      "cell_type": "markdown",
      "id": "e96b274d-17ab-4d56-a07e-78a58a3a735e",
      "metadata": {
        "id": "e96b274d-17ab-4d56-a07e-78a58a3a735e"
      },
      "source": [
        "### scrape job data from urls"
      ]
    },
    {
      "cell_type": "code",
      "execution_count": 9,
      "id": "eae48386-623d-4153-bf4c-74ee5e5e9b60",
      "metadata": {
        "jupyter": {
          "source_hidden": true
        },
        "id": "eae48386-623d-4153-bf4c-74ee5e5e9b60"
      },
      "outputs": [],
      "source": [
        "def get_job_data(job_link):\n",
        "    \"\"\"\n",
        "    Scrape job details from a given job posting URL.\n",
        "\n",
        "    Args:\n",
        "        job_link (str): The full URL of the job posting page.\n",
        "\n",
        "    Returns:\n",
        "        dict: A dictionary containing:\n",
        "            - \"Job Title\" (str or None): The job title text, if found.\n",
        "            - \"Job Description\" (str or None): The job description text,\n",
        "              with line breaks preserved, if found.\n",
        "            - \"Salary Range\" (str or None): The salary range as a formatted string\n",
        "              (e.g., \"$50,000 - $70,000\"), or a single value if only one number is found,\n",
        "              or None if no salary is listed.\n",
        "    \"\"\"\n",
        "\n",
        "    # create soup object\n",
        "    res = requests.get(job_link)\n",
        "    soup = BeautifulSoup(res.text, \"html.parser\")\n",
        "\n",
        "    # get job title\n",
        "    title_el = soup.select_one(\".post-main-title2\")\n",
        "    job_title = title_el.get_text(strip=True) if title_el else None\n",
        "\n",
        "    # get job description\n",
        "    desc_el = soup.select_one(\".job-description-container\")\n",
        "    job_description = desc_el.get_text(separator=\"\\n\", strip=True) if desc_el else None\n",
        "\n",
        "    # get salary\n",
        "    salary_el = soup.select_one(\".salery h2\")   # note: the site spells it \"salery\"\n",
        "    salary_range = None\n",
        "    if salary_el:\n",
        "        text = salary_el.get_text(strip=True)\n",
        "        numbers = re.findall(r\"\\d[\\d,]*\", text)  # find all numbers\n",
        "        if len(numbers) >= 2:\n",
        "            salary_range = f\"${numbers[0]} - ${numbers[1]}\"\n",
        "        elif len(numbers) == 1:\n",
        "            salary_range = f\"${numbers[0]}\"\n",
        "\n",
        "\n",
        "    return {\n",
        "        \"Job Title\": job_title,\n",
        "        \"Job Description\": job_description,\n",
        "        \"Salary Range:\": salary_range\n",
        "    }"
      ]
    },
    {
      "cell_type": "code",
      "execution_count": 10,
      "id": "0aee05e0-78ee-48c2-81bf-d9a299365d34",
      "metadata": {
        "id": "0aee05e0-78ee-48c2-81bf-d9a299365d34"
      },
      "outputs": [],
      "source": [
        "job_data_list = []\n",
        "for job_link in job_links:\n",
        "    job_data_list.append(get_job_data(job_link))"
      ]
    },
    {
      "cell_type": "code",
      "execution_count": 11,
      "id": "c751026c-6966-4dfb-809c-750dad51914d",
      "metadata": {
        "scrolled": true,
        "colab": {
          "base_uri": "https://localhost:8080/"
        },
        "id": "c751026c-6966-4dfb-809c-750dad51914d",
        "outputId": "8a216f53-0093-4975-8abf-b70fc84bc9d8"
      },
      "outputs": [
        {
          "output_type": "execute_result",
          "data": {
            "text/plain": [
              "[{'Job Title': 'Bioacoustics Machine Learning Post Doctoral Associate',\n",
              "  'Job Description': \"HOW YOU WILL IMPACT OUR MISSION\\nThe Post-Doctoral Associate oversees research projects and performs a variety of assigned research and diagnostic activities, while completing post-doctoral training in a specialized area of scientific research. This position reports to Scientist level or higher in the Conservation Science & Wildlife Health department.\\nWHAT YOU WILL DO\\nOversee assigned research projects.\\nCollect, process, and enters research data.\\nPerform experiments and measurements.\\nInterpret and analyze research results and revises procedures as necessary.\\nEstablish and maintain databases.\\nDocument research methodology and results.\\nPrepare progress reports.\\nConduct and oversee investigations of study subjects.\\nWHAT WE ARE LOOKING FOR\\nThe San Diego Zoo Wildlife Alliance Conservation Technology Lab seeks a postdoctoral associate for a three-year position applying their machine learning expertise to bioacoustics problems in ecology and conservation.\\nThe problems include identifying species in acoustically complex field recordings from passive acoustic recorders for biodiversity monitoring and other ecological studies; improving methods for unsupervised, semi-supervised, and/or active learning-based preparation of such data; evaluating, refining, and designing tools for managing and analyzing data from passive acoustic recorders; helping guide the design of TinyML acoustic models for use in embedded devices; researching classification (in some taxa) to intraspecific class (e.g. chick/juvenile/adult) or, aspirationaly, individual level; and investigating optimal alignment between cutting-edge ML capabilities and the requirements of ecological methods commonly used in conservation.\\nThe work will make use of existing multi-year datasets and its outputs will contribute to projects across the SDZWA Global Hubs including in the Peruvian Amazon, in Cameroon's Ebo Forest, in the savannas of Kenya, with burrowing owls and other grassland species in the US Southwest, and with polar and panda bears.\\nThe desired candidate has a doctoral degree in computer science or a related field with a focus in machine learning (ML), with a preference for candidates with experience specifically in applying ML to acoustic data.\\xa0 An ideal candidate already has experience in bioacoustics and/or passive acoustic monitoring.\\xa0 Qualified candidates will be strong Python programmers; be highly skilled in the NumPy/SciPy/pandas/scikit-learn toolset; be advanced users of an ML framework such as PyTorch or TensorFlow and associated tools connected to audio processing like librosa; and possess in-depth knowledge about contemporary methods in machine learning.\\xa0 Experience with R is a plus. The selected candidate will work with a diverse group of collaborators within SDZWA and also with our local and global partners, in particular with our faculty collaborators at UCSD and SDSU who specialize in machine learning and bioacoustics.\\nJOB EXPERIENCE\\nPosition responsible for ensuring compliance with established guidelines.\\nEDUCATION AND CERTIFICATIONS\\nPost Doctorate or Doctorate in Veterinary Medicine or equivalent specialized training required.\\nSKILLS AND KNOWLEDGE\\nSpecialization area preferred. (i.e. population biologist, demography, or genetics)\\nAble to communicate effectively, both orally and in writing.\\nAble to operate moderately complex computer software programs\\nDemonstrated ability to work with others in a diverse environment.\\nKnowledge of science communication or interpretation of scientific concepts.\\nSOME OF THE PERKS YOU WILL ENJOY AS A TEAM MEMBER\\nFree admission to the San Diego Zoo and the San Diego Zoo Safari Park\\nFamily Passes\\nComplimentary Tickets\\nLocal and In-House Discounts\\nEmployee Assistance Program\\nWellness Program\\nIMPORTANT DETAILS\\nLocation:\\xa0Escondido, CA\\nPosition Type: Three Year, Salary, Full-Time, Exempt Position\\nSalary Rate:\\xa0$87,264.80\",\n",
              "  'Salary Range:': '$87,264'},\n",
              " {'Job Title': 'AI Fellows (12-month LTE)',\n",
              "  'Job Description': 'AI Fellows (12-month LTE*)\\nLocation:\\nSeattle, WA\\nTime Type:\\nFull time\\nPosted On:\\nSeptember 4, /2025\\nEnd Date:\\nSeptember 20, 2025 (14 days left to apply)\\nJob Requisition ID:\\nB021159\\nThe Foundation\\nWe are the largest nonprofit fighting poverty, disease, and inequity around the world. Founded on a simple premise: people everywhere, regardless of identity or circumstances, should have the chance to live healthy, productive lives. We believe our employees should reflect the rich diversity of the global populations we aim to serve. We provide an exceptional benefits package to employees and their families which include comprehensive medical, dental, and vision coverage with no premiums, generous paid time off, paid family leave, foundation-paid retirement contribution, regional holidays, and opportunities to engage in several employee communities. As a workplace, we’re committed to creating an environment for you to thrive both personally and professionally.\\nThe Team\\nOur mission is to harness the power of artificial intelligence to bridge the digital divide, with a focus on ensuring AI is deployed ethically and equitably to benefit low- and middle-income countries (LMICs). As large language models continue to advance, we are committed to unlocking AI’s potential to drive innovative development solutions tailored to the needs of LMICs.\\nOur portfolio of initiatives is wide-ranging—spanning the design of new AI applications for decision support and conversational interventions, as well as advancing technical product development and impact in health, education, and agriculture. Building on the momentum of early proof-of-concept projects, our goal is to ensure that the benefits of AI are inclusive, reaching all segments of society.\\nPlease apply by EOD Friday, September 17 to be considered for the November 2025 cohort.\\n*Note: This is a 12-month limited term position. Candidates must be able to legally work in the country where this position is located without visa sponsorship.\\nYour Role\\nThe AI Fellows Program at the Gates Foundation is designed to accelerate the responsible and impactful use of AI in global health, development, and education. Our goal is to attract top-tier, mission-aligned AI talent to drive innovation in these areas. As a Gates AI Fellow, you will join a prestigious cohort applying AI for public good and gain career-defining experience, access to Gates’ powerful network, and exposure to senior leadership.\\nThis role offers the unique opportunity to collaborate across multiple divisions within the Foundation—including Global Health (GH), Gender Equality (GE), Global Development (GD), and Global Growth & Opportunity (GGO)—all of which are leveraging AI to accelerate progress toward their strategic goals and objectives.\\nOver the course of\\n12 months, each AI Fellow\\nwill be assigned to\\nhigh-priority projects\\n, embedded within Strategic Initiatives or relevant Programmatic Strategy Teams (PSTs).\\nSample project areas will include:\\n• Developing agent-based data tools and dashboards (e.g., periodic AI-generated insights).\\n• Building AI-powered prediction models for simple diagnostics.\\n• Designing and running lightweight A/B tests to validate concepts quickly.\\n• Building chatbots and interactive prototypes for pre-field assessment.\\n• Pressure-testing or adapting tools developed by Foundation partners and grantees for usability and adoption.\\n• Embedding AI agents in flagship Foundation databases or workflows.\\nWhat You’ll Do\\nProblem Identification & Scoping\\n• Identify, frame, and prioritize real-world challenges in collaboration with program teams, ensuring solutions are grounded in user needs and local realities.\\nPrototyping & Rapid Experimentation\\n• Prototype rapidly with modern LLM and AI tools to test feasibility, generate insights, and create lightweight demos.\\n• Document learnings from prototypes and translate them into actionable recommendations for scale or next steps.\\nDesign and Deliver AI Solutions\\n• Design and implement AI/ML models to address challenges in global health, development, agriculture, diagnostics, or education.\\n• Conduct rigorous model evaluation and validation, ensuring accuracy, fairness, and real-world applicability.\\n• Prepare, curate, and manage datasets, ensuring data integrity, security, and ethical use.\\n• Develop high-quality, reliable software, applying strong engineering practices such as clean code, version control, and robust testing.\\n• Leverage large language models (LLMs), including deployment, fine-tuning, and adaptation to specific use cases.\\nTeaching & Capacity Building\\n• Develop and deliver workshops, guides, and playbooks to enable Foundation staff and partners to use LLM tools effectively in their own work.\\n• Mentor program teams and local partners in applying AI responsibly, with a focus on usability and adoption in LMIC contexts.\\nCollaborate Across Teams and Partners\\n• Apply interdisciplinary problem-solving skills to translate AI research into practical solutions across multiple domains.\\n• Communicate technical concepts effectively to both technical and non-technical stakeholders, enabling shared understanding and informed decision-making.\\n• Collaborate with cross-functional teams across disciplines and geographies to co-design and deliver impactful solutions.\\n• Facilitate workshops and training sessions to demystify AI tools, enabling teams to directly apply solutions to their workflows.\\nAdvance Responsible and Ethical AI\\n• Embed equity, bias mitigation, and data privacy in all technical approaches.\\n• Ensure prototypes are designed with explainability in mind, making them accessible to non-technical stakeholders.\\n• Align AI solutions with the Foundation’s mission and global health and development goals.\\n• Share thought leadership by integrating prior academic, research, or professional experiences to advance the responsible and impactful use of AI.\\nYour Experience\\nWe are looking for fellows who represent a balance of technical competence and alignment with Foundation values.\\n•\\nEducation:\\nCandidates must hold a Bachelor’s or Master’s degree (in Computer Science, Data Science, Engineering, Applied Math or relevant field).\\n•\\nAI Technology:\\nProficiency in ML/AI modeling, software engineering, model evaluation, LLM deployment, and data wrangling, with evidence of applied coursework, research, internships, or early professional experience.\\n•\\nAI Applications:\\nDemonstrated interest in applying AI to fields such as health systems, agriculture, diagnostics, or education, with enthusiasm and literacy to use modern AI tools safely and pragmatically (direct AI research experience not required).\\n•\\nCollaborative Mindset:\\nStrong teamwork and adaptability, with experience working cross-functionally in complex environments.\\n•\\nCommunication Skills:\\nDemonstrated ability to clearly articulate technical concepts and recommendations to both technical and non-technical audiences.\\n•\\nMission-Driven Ethos:\\nDeep motivation to apply AI responsibly for public good, with alignment to equitable development and global health impact.\\n•\\nBuilder and Teacher Mindset:\\nHands-on experience building prototypes with LLMs (e.g., using open-source tools or API-based platforms) and a willingness to share learnings openly. Ability to teach and enable others, not just deliver technical outputs.\\nWhy you should consider becoming a Gates AI Fellow\\n•\\nApply AI where it matters most:\\nWork on problems core to the Foundation’s mission—health, development, and education so more people can live healthy, productive lives.\\n•\\nDrive outsized results in LMICs:\\nAim solutions at countries and communities the Foundation prioritizes, where innovation can move the needle fastest.\\n•\\nAdvance digital public goods:\\nContribute to safe, inclusive digital public infrastructure and health innovation efforts where AI can accelerate access and equity. Partner with Program Strategy Teams to deliver tangible prototypes, tools, and analyses.\\n•\\nTap into a uniquely powerful network:\\nCollaborate across multilaterals, NGOs, academia, and industry through the Foundation’s partnership model.\\n•\\nStand on a global platform:\\nBenefit from the credibility and reach of a foundation funding work in over 140 countries.\\n•\\nLead from day one:\\nOwn high-priority projects with clear outcomes and stakeholders.\\n•\\nGrow faster with expert mentorship:\\nLearn from leaders across AI, health, development, and policy while building a portfolio of real-world impact.\\n•\\nCompensation:\\nThe fellowship offers a starting salary of $148,920–$162,350, depending on work location. To ensure equity, all AI Fellows receive the same compensation within this structure.\\n•\\nBenefits:\\nWe believe our employees should reflect the rich diversity of the global populations we aim to serve. We provide an exceptional benefits package to employees and their families which include comprehensive medical, dental, and vision coverage with no premiums, generous paid time off, paid family leave, foundation-paid retirement contribution, regional holidays, and opportunities to engage in several employee communities. As a workplace, we’re committed to creating an environment for you to thrive both personally and professionally.\\n•\\nMedical, Dental and Vision Coverage:\\nThe foundation pays 100% of monthly premiums for medical, vision, dental, identity theft protection, and the employee assistance program for employees, spouses/domestic partners, and children to age 26, as well as basic life insurance, disability, business travel accident, and emergency travel assistance for eligible employees.\\n•\\nFoundation Sharing Retirement Plan:\\nThe foundation contributes an amount equal to 15% of eligible employee compensation (subject to IRS limitations*) quarterly to the foundation sharing plan on your behalf.\\n•\\nVacation Time:\\nYou may take the time you need for vacation so you can return to work able to contribute fully to the foundation’s mission. The approval of time off requests is subject to business needs, reasonable management discretion, and your professional commitments. You are eligible to accrue paid time off for vacation at a rate equivalent to 15 days per year.\\n•\\nSick Time:\\nYou are eligible for up to 12 paid sick days\\n•\\nPersonal Time & Holidays:\\nIn addition to vacation and sick leave, the foundation provides personal days, paid holidays, and end-of-year closure.\\n•\\nEmployee Matching Gifts:\\nThe foundation will match employee contributions up to $10,000 per year to eligible organizations at a rate of three dollars for every one dollar contributed.\\n•\\nAdditional Benefits:\\nEmployee Assistance Program, Identity Theft Protection, Caregiver Leave, Parental Bonding Leave, and more.\\nFrequently Asked Questions (FAQs)\\nQ: Who is eligible to apply?\\nA:\\nApplicants must hold at least a Bachelor’s or Master’s degree in Computer Science, Data Science, Engineering, Applied Math, or a related field. You must also have the legal right to work in the country where the position is based, as visa sponsorship is not available.\\nQ: Do I need prior experience in global health or development?\\nA:\\nNot necessarily. While experience is helpful, what matters most is demonstrated technical competence in AI/ML and a strong motivation to apply AI responsibly for public good.\\nQ: When is the application deadline?\\nA:\\nApplications are due by EOD Friday, September 17, 2025 to be considered for the November 2025 cohort.\\nQ: What is the application process for the AI Fellowship Program?\\nA:\\nWhile the process may evolve based on business needs, all applicants can generally expect the following steps:\\n• Application Review – Your application will be carefully reviewed by a team dedicated to this program.\\n• Technical Assessment – Qualified candidates will be invited to complete a technical exercise.\\n• Talent Acquisition Conversation – Candidates who pass the assessment will have an informational conversation with a Talent Acquisition colleague.\\n• Final Interviews – A combination of technical and behavioral panel-style interviews with foundation stakeholders.\\nNote: The order of these steps may be adjusted as needed based on business requirements.\\nQ: Is this a full-time position?\\nA:\\nYes. Fellows are full-time employees of the Gates Foundation for the duration of the 12-month fellowship.\\nQ: Where will Fellows be located?\\nA:\\nFellows can be based remotely in the U.S. or in the Seattle, WA office. Some roles may involve international travel (up to 30%).\\nHiring Requirements\\nAs part of our standard hiring process for new employees, employment will be contingent upon successful completion of a background check.\\nCandidate Accommodations\\nIf you require assistance due to a disability in the application or recruitment process, please submit a request http://forms.office.com/pages/responsepage.aspx?id=ODhrKdVLbEm9S_RW6nQ7dA6ethIGP9NAlRemHliH1cRUNUNENkZROTRQVk1HTDhJMktOTUZLVzE4US4u&web=1&wdLOR=cBC7FD42D-01C7-4C1B-80E3-B29970D716AC.\\nInclusion Statement\\nWe are dedicated to the belief that all lives have equal value. We strive for a global and cultural workplace that supports ever greater diversity, equity, and inclusion — of voices, ideas, and approaches — and we support this diversity through all our employment practices.\\nAll applicants and employees who are drawn to serve our mission will enjoy equality of opportunity and fair treatment without regard to race, color, age, religion, pregnancy, sex, sexual orientation, disability, gender identity, gender expression, national origin, genetic information, veteran status, marital status, and prior protected activity.\\nTo apply:\\nhttps://apptrkr.com/6548552',\n",
              "  'Salary Range:': None},\n",
              " {'Job Title': 'Senior Software Engineer - Agents',\n",
              "  'Job Description': 'About xAI\\nxAI’s mission is to create AI systems that can accurately understand the universe and aid humanity in its pursuit of knowledge.\\nOur team is small, highly motivated, and focused on engineering excellence. This organization is for individuals who appreciate challenging themselves and thrive on curiosity.\\nWe operate with a flat organizational structure. All employees are expected to be hands-on and to contribute directly to the company’s mission. Leadership is given to those who show initiative and consistently deliver excellence. Work ethic and strong prioritization skills are important.\\nAll engineers and researchers are expected to have strong communication skills. They should be able to concisely and accurately share knowledge with their teammates.\\nAbout the Role\\nOur team creates innovative, customer-facing tools and features for\\nGrok.com\\n, focusing on user productivity and agent automation. We seek an experienced, adaptable software engineer who thrives in a dynamic startup environment. Ideal candidates meet these minimum requirements:\\nExpertise in a compiled language like Rust, C++, or Go (Rust or C++ preferred)\\nExpertise in Python\\nExperience designing reliable, horizontally scalable distributed systems\\nExperience in API design\\nBonus points for familiarity with:\\nTypeScript and React\\ngRPC\\nKubernetes\\nFocus\\nDesigning, building, and supporting robust services and tools for agentic workflows on\\nGrok.com\\nLocation\\nBased in the Bay Area (San Francisco and Palo Alto). Candidates should be local or willing to relocate.\\nInterview Process\\nAfter applying, our team reviews your CV and Statement of Exceptional Work. If selected, you’ll proceed to:\\nTechnical Phone Interview\\n: A 20-minute call with technical questions.\\nMain Process\\n(if you advance):\\n2 Coding Assessments\\n: In a language of your choice.\\nTeam Meet-and-Greet\\n: Connect with the wider team.\\nNote\\n: The Statement of Exceptional Work is critical to your application. We aim to complete the main process within one week. No recruiters—our technical team reviews every application. Interviews are via Google Meet or in-person.\\nBenefits\\nCompetitive cash compensation\\nxAI equity\\nPrivate health and dental insurance\\nUnlimited time off (with prior approval)\\nAnnual Salary Range\\n$180,000 - $440,000 USD\\nxAI is an equal opportunity employer.\\nCalifornia Consumer Privacy Act (CCPA) Notice',\n",
              "  'Salary Range:': '$180,000 - $440,000'},\n",
              " {'Job Title': 'Lead Software Engineer, ML Backend',\n",
              "  'Job Description': \"At Dynamo AI, our mission is to empower every organization to harness AI’s transformative potential with confidence and control. Our solutions empower customers to ensure AI safety and compliance while delivering top-tier AI innovations. We are looking for a highly talented and experienced Lead Software Engineer to lead the development of our ML services on the cloud. Join us in defining the future of AI safety and compliance!\\nResponsibilities\\nLead the engineering team to design, develop, and deploy high-performance, secure, and reliable ML services adhering to industry-leading standards.\\nPartner closely with the ML team to streamline and optimize the transition from experimentation to production for cutting-edge ML models and AI solutions.\\nDeeply understand customer needs and industry trends in AI safety and compliance, collaborating with leadership and product managers to shape and execute technical strategies.\\nWork directly with customers to deliver tailored solutions, ensuring seamless integration of our products with their AI systems.\\nEstablish yourself as a thought leader in the AI safety and compliance domain by providing insights and influencing the broader community and industry.\\nQualifications\\n6+ years of experience in delivering and maintaining large-scale services, ensuring high reliability and performance in production environments.\\nDeep knowledge of best engineering practices and a strong track record of designing and building scalable, distributed systems.\\nCapability of delivering industry-leading AI inference or training systems that achieve exceptional customer satisfaction.\\nA mission-driven mindset with a commitment to continuously innovate our products and solutions.\\nStrong communication and collaboration skills to work effectively with cross-functional teams and stakeholders.\\nDynamo AI is committed to maintaining compliance with all applicable local and state laws regarding job listings and salary transparency. This includes adhering to specific regulations that mandate the disclosure of salary ranges in job postings or upon request during the hiring process. We strive to ensure our practices promote fairness, equity, and transparency for all candidates.\\nSalary for this position may vary based on several factors, including the candidate's experience, expertise, and the geographic location of the role. Compensation is determined to ensure competitiveness and equity, reflecting the cost of living in different regions and the specific skills and qualifications of the candidate.\",\n",
              "  'Salary Range:': None},\n",
              " {'Job Title': 'Staff Engineer, Software Autonomy Applications (R3166)',\n",
              "  'Job Description': \"Founded in 2015, Shield AI is a venture-backed defense technology company with the mission of protecting service members and civilians with intelligent, autonomous systems. Its products include Hivemind Enterprise—EdgeOS, Pilot, Commander, and Forge—as well as V-BAT and Sentient Vision Systems (wide-area motion imaging software). With offices in San Diego, Dallas, Washington, D.C., Abu Dhabi (UAE), Kyiv (Ukraine), and Melbourne (Australia), Shield AI’s technology actively supports U.S. and allied operations worldwide.\\nFor more information, visit\\nwww.shield.ai.\\nFollow Shield AI on\\nLinkedIn,\\nX\\nand\\nInstagram.\\nThe Software Applications Engineer will provide technical expertise and support to customers during the implementation and use of Shield AI enterprise software products. This role involves working closely with customers to understand their requirements and ensuring successful product integration for AI & Autonomy development.\\nWhat you'll do:\\nBecome an expert user of the Hivemind enterprise software stack.\\nProvide technical support and training to customers.\\nDevelop AI & Autonomy applications using the Shield AI enterprise software development kit.\\nAssist the sales team in pre-sales activities, e.g., demos.\\nAssist in post-sales deployment and integration of Shield AI enterprise software products.\\nDevelop and maintain technical documentation and training materials.\\nTroubleshoot and resolve technical issues.\\nHelp customers debug software/API integration issues.\\nCollaborate with the engineering team to address customer feedback and improve products.\\nVisit customers on site globally to support software integration and development activities.\\nRequired qualifications:\\nBachelor’s degree in Engineering, Computer Science, or a related field.\\n7+ years of experience of industry experience\\n3+ years of experience in an integration/applications engineering role\\n3+ years of experience working in a startup environment.\\nStrong technical background in software engineering.\\nStrong proficiency in writing modern C++ code.\\nIntermediate proficiency in writing Python code.\\nExcellent problem-solving and analytical skills.\\nStrong communication and interpersonal skills.\\nPreferred qualifications:\\nExperience in the defense aviation or robotics industry.\\nExperience building and running a small enterprise software applications/solutions engineering team.\\nFull-time regular employee offer package: Pay within range listed + Bonus + Benefits + Equity\\nTemporary employee offer package: Pay within range listed above + temporary benefits package (applicable after 60 days of employment)\\nSalary compensation is influenced by a wide array of factors including but not limited to skill set, level of experience, licenses and certifications, and specific work location. All offers are contingent on a cleared background and possible reference check. Military fellows and part-time employees are not eligible for benefits. Please speak to your talent acquisition representative for more information.\\n###\\nShield AI is proud to be an equal opportunity workplace and is an affirmative action employer. We are committed to\\xa0equal employment opportunity regardless of race, color, ancestry, religion, sex, national origin, sexual orientation, age, marital status, disability, gender identity or Veteran status. If you have a disability or special need that requires accommodation, please let us know.\",\n",
              "  'Salary Range:': None},\n",
              " {'Job Title': 'ML Application Security Engineer',\n",
              "  'Job Description': \"At\\nDynamo AI\\n, we believe that LLMs must be developed with privacy, safety, and real-world responsibility in mind. Our ML team comes from a culture of academic research driven to democratize AI advancements responsibly. By operating at the intersection of ML research and industry applications, our team empowers Fortune 500 companies’ adoption of frontier research for their next generation of LLM products. Join us if you:• Wish to work on the premier platform for private and personalized LLMs. We provide the fastest end to end solution to deploy research in the real world with our fast-paced team of ML Ph.D.’s and builders, free of Big Tech / academic bureaucracy and constraints.• Are excited at the idea of democratizing state-of-the-art research on safe and responsible AI.• Are motivated to work at a\\n2023 CB Insights Top 100 AI Startup\\nand see your impact on end customers in the timeframe of weeks not years.• Care about building a platform to empower fair, unbiased, and responsible development of LLMs and don’t accept the status quo of sacrificing user privacy for the sake of ML advancement.\\nResponsibilities\\nWork directly with customers to assess and enhance their AI/ML security posture, providing expert guidance and support.\\nDesign and implement architectural patterns and proof of concepts for secure SaaS-based platform deployments.\\nCollaborate with cross-functional teams, including Product Managers and Engineers, to gather customer requirements and influence product direction to better solve customers security problems\\nQualifications\\nSignificant experience deploying and securing production AI/ML infrastructure in complex environments.\\nDeep understanding of popular security posture management tools and practices.\\nStrong familiarity with AI/ML concepts, LLM implementations and their security implications.\\nPrevious experience in security services setup or at a large SaaS security company is highly desirable.\\nDynamo AI is committed to maintaining compliance with all applicable local and state laws regarding job listings and salary transparency. This includes adhering to specific regulations that mandate the disclosure of salary ranges in job postings or upon request during the hiring process. We strive to ensure our practices promote fairness, equity, and transparency for all candidates.\\nSalary for this position may vary based on several factors, including the candidate's experience, expertise, and the geographic location of the role. Compensation is determined to ensure competitiveness and equity, reflecting the cost of living in different regions and the specific skills and qualifications of the candidate.\",\n",
              "  'Salary Range:': None},\n",
              " {'Job Title': 'Solutions Engineering Senior Manager',\n",
              "  'Job Description': \"We are seeking a strategic and innovative Solutions Engineering Senior Manager to build our Sales Engineering team. Reporting directly to the Head of Growth, you will be responsible for driving technical sales strategies, enabling customers to successfully integrate our AI solutions into their environments, and ensuring the highest levels of customer satisfaction.\\u200b\\u200b\\nResponsibilities\\nBuild and Lead Sales Engineering Team:\\nDevelop the structure and processes for the Sales Engineering team, including hiring, onboarding, and mentoring team members.\\u200b\\nTechnical Sales Leadership:\\nCollaborate with the Sales team to develop and execute technical sales strategies that drive revenue growth and meet company objectives.\\u200b\\nCustomer Engagement:\\nEngage directly with customers to understand their technical requirements, demonstrate product capabilities, and assist in solution design.\\u200b\\nProduct Alignment:\\nWork closely with Product Management and Engineering teams to ensure that technical sales processes and approaches are aligned with the product vision and capabilities.\\nProduct Evangelism:\\nAct as a technical evangelist for our products, showcasing their value and differentiation in the market through presentations, demos, and other means.\\u200b\\nCross-Functional Collaboration:\\nCollaborate with Product Management, Engineering, and Customer Success teams to ensure alignment between customer requirements and product development.\\u200b\\nContinuous Improvement:\\nIdentify areas for improvement in the sales process, product offerings, and customer engagement to drive continuous improvement and innovation.\\nQualifications\\nBachelor’s degree in Computer Science, Engineering, or a related field. Master’s degree preferred.\\u200b\\n8+ years of experience in a technical pre-sales or sales engineering role, with at least 3 years in a leadership capacity.\\u200b\\nDeep understanding and hands-on experience with AI, machine learning, and cloud computing technologies.\\u200b\\nProficiency in container technologies such as Docker and Kubernetes, with experience in deploying and managing containerized applications.\\u200b\\nProven track record of leading successful technical sales engagements and driving revenue growth.\\u200b\\nStrong communication and presentation skills, with the ability to effectively convey technical concepts to non-technical audiences.\\u200b\\nExperience working with cross-functional teams in a fast-paced, dynamic environment.\\u200b\\nStrong leadership and team-building skills, with a focus on developing and growing a high-performing team.\\nDynamo AI is committed to maintaining compliance with all applicable local and state laws regarding job listings and salary transparency. This includes adhering to specific regulations that mandate the disclosure of salary ranges in job postings or upon request during the hiring process. We strive to ensure our practices promote fairness, equity, and transparency for all candidates.\\nSalary for this position may vary based on several factors, including the candidate's experience, expertise, and the geographic location of the role. Compensation is determined to ensure competitiveness and equity, reflecting the cost of living in different regions and the specific skills and qualifications of the candidate.\",\n",
              "  'Salary Range:': None},\n",
              " {'Job Title': 'ML Engineer — LLM Evaluation',\n",
              "  'Job Description': \"At\\nDynamo AI\\n, we believe that LLMs must be developed with safety, privacy, and real-world responsibility in mind. Our ML team comes from a culture of academic research driven to democratize AI advancements responsibly. By operating at the intersection of ML research and industry applications, our team empowers Fortune 500 companies’ adoption of frontier research for their next generation of LLM products. Join us if you:\\n• Wish to work on the premier platform for private and personalized LLMs. We provide the fastest end to end solution to deploy research in the real world with our fast-paced team of ML Ph.D.’s and builders, free of Big Tech / academic bureaucracy and constraints.\\n• Are excited at the idea of democratizing state-of-the-art research on safe and responsible AI.\\n• Are motivated to work at a\\n2023 CB Insights Top 100 AI Startup\\nand see your impact on end customers in the timeframe of weeks not years.\\n• Care about building a platform to empower fair, unbiased, and responsible development of LLMs and don’t accept the status quo of sacrificing user privacy for the sake of ML advancement.\\nResponsibilities\\nOwn LLM evaluation processes and methods with a focus on generating benchmarks representative of real-world usage and safety vulnerabilities.\\nGenerate high quality synthetic data, curate labels, and conduct rigorous benchmarking.\\nDeliver robust, scalable, and reproducible production code.\\nPush the envelope by developing methods for benchmarking that revamps how we assess the best LLMs for harmlessness and helpfulness. Your research will directly empower our customers to more feasibly deploy safe and responsible LLMs.\\nCo-author papers, patents, and presentations with our research team by integrating other members’ work with your vertical.\\nQualifications\\nDomain knowledge in LLM evaluation and data curation techniques.\\nExtensive experience in designing and implementing LLM benchmarking, extending previous methods. Comfortability with leading end-to-end projects.\\nAdaptability and flexibility. In both the academic and startup world, a new finding in the community may necessitate an abrupt shift in focus. You must be able to learn, implement, and extend state-of-the-art research.\\nPreferred: past research or projects in benchmarking LLMs.\\nDynamo AI is committed to maintaining compliance with all applicable local and state laws regarding job listings and salary transparency. This includes adhering to specific regulations that mandate the disclosure of salary ranges in job postings or upon request during the hiring process. We strive to ensure our practices promote fairness, equity, and transparency for all candidates.\\nSalary for this position may vary based on several factors, including the candidate's experience, expertise, and the geographic location of the role. Compensation is determined to ensure competitiveness and equity, reflecting the cost of living in different regions and the specific skills and qualifications of the candidate.\",\n",
              "  'Salary Range:': None},\n",
              " {'Job Title': 'ML Engineer – LLM Safety',\n",
              "  'Job Description': \"At\\nDynamo AI\\n, we believe that LLMs must be developed with safety, privacy, and real-world responsibility in mind. Our ML team comes from a culture of academic research driven to democratize AI advancements responsibly. By operating at the intersection of ML research and industry applications, our team empowers Fortune 500 companies’ adoption of frontier research for their next generation of LLM products.As a Machine Learning Engineer, you will design, develop, and maintain ML code for our products centered around LLM safety.Join us if you:• Wish to work on the premier platform for private and personalized LLMs. We provide the fastest end to end solution to deploy research in the real world with our fast-paced team of ML Ph.D.’s and builders, free of Big Tech / academic bureaucracy and constraints.• Are excited at the idea of democratizing state-of-the-art research on safe and responsible AI.• Are motivated to work at a\\n2023 CB Insights Top 100 AI Startup\\nand see your impact on end customers in the timeframe of weeks not years.• Care about building a platform to empower fair, unbiased, and responsible development of LLMs and don’t accept the status quo of sacrificing user privacy for the sake of ML advancement.\\nResponsibilities\\nWork at the intersection of ML and Engineering for delivering robust and scalable implementation of LLM safety techniques and evaluations.\\nPerform rigorous testing of the product features and ensure seamless integrations with customers’ AI workflows.\\nPush the envelope by implementing novel techniques that delivers the world’s most harmless and helpful models. Your work will directly empower our customers to more feasibly deploy safe and responsible LLMs.\\nWork closely with our policy, product, and engineering teams to ship features to customers.\\nQualifications\\nDeep domain knowledge in LLM safety and/or evaluation techniques.\\nExtensive experience in designing, implementing, and maintaining production-ready ML code for LLMs. Past experience on integrating LLM APIs in production environments.\\nComfortability with leading end-to-end projects and collaborating with researchers and engineers.\\nAdaptability and flexibility. In both the academic and startup world, a new finding in the community may necessitate an abrupt shift in focus. You must be able to learn, implement, and extend state-of-the-art research in short time-frames.\\nPreferred: Past engineering experience with strong LLM knowledge.\\nDynamo AI is committed to maintaining compliance with all applicable local and state laws regarding job listings and salary transparency. This includes adhering to specific regulations that mandate the disclosure of salary ranges in job postings or upon request during the hiring process. We strive to ensure our practices promote fairness, equity, and transparency for all candidates.\\nSalary for this position may vary based on several factors, including the candidate's experience, expertise, and the geographic location of the role. Compensation is determined to ensure competitiveness and equity, reflecting the cost of living in different regions and the specific skills and qualifications of the candidate.\",\n",
              "  'Salary Range:': None},\n",
              " {'Job Title': 'ML Engineer — LLM Privacy',\n",
              "  'Job Description': \"At\\nDynamo AI\\n, we believe that LLMs must be developed with safety, privacy, and real-world responsibility in mind. Our ML team comes from a culture of academic research driven to democratize AI advancements responsibly. By operating at the intersection of ML research and industry applications, our team empowers Fortune 500 companies’ adoption of frontier research for their next generation of LLM products. Join us if you:\\n• Wish to work on the premier platform for private and personalized LLMs. We provide the fastest end to end solution to deploy research in the real world with our fast-paced team of ML Ph.D.’s and builders, free of Big Tech / academic bureaucracy and constraints.\\n• Are excited at the idea of democratizing state-of-the-art research on safe and responsible AI.\\n• Are motivated to work at a\\n2023 CB Insights Top 100 AI Startup\\nand see your impact on end customers in the timeframe of weeks not years.\\n• Care about building a platform to empower fair, unbiased, and responsible development of LLMs and don’t accept the status quo of sacrificing user privacy for the sake of ML advancement.\\nResponsibilities\\nOwn an ML privacy vertical e.g. data leakage attacks, sensitive PII detection, and/or membership inference attacks.\\nCollaborate with our engineering team to deliver real-world applications of your algorithms for our customers.\\nGenerate high quality synthetic training data, train LLMs, and conduct rigorous evaluation and benchmarking.\\nQualifications\\nDeep domain knowledge in privacy-preserving ML.\\nPractical experience in techniques to attack or defend ML models in terms of privacy.\\nExtensive experience in implementing multiple different types of LLM models and architectures in the real world. Comfortability with leading end-to-end projects.\\nAdaptability and flexibility. In both the academic and startup world, a new finding in the community may necessitate an abrupt shift in focus. You must be able to learn, implement, and extend state-of-the-art research.\\nPreferred: previous projects or research in LLM privacy.\\nDynamo AI is committed to maintaining compliance with all applicable local and state laws regarding job listings and salary transparency. This includes adhering to specific regulations that mandate the disclosure of salary ranges in job postings or upon request during the hiring process. We strive to ensure our practices promote fairness, equity, and transparency for all candidates.\\nSalary for this position may vary based on several factors, including the candidate's experience, expertise, and the geographic location of the role. Compensation is determined to ensure competitiveness and equity, reflecting the cost of living in different regions and the specific skills and qualifications of the candidate.\",\n",
              "  'Salary Range:': None},\n",
              " {'Job Title': 'ML Research Scientist — LLM Safety',\n",
              "  'Job Description': \"At\\nDynamo AI\\n, we believe that LLMs must be developed with safety, privacy, and real-world responsibility in mind. Our ML team comes from a culture of academic research driven to democratize AI advancements responsibly. By operating at the intersection of ML research and industry applications, our team empowers Fortune 500 companies’ adoption of frontier research for their next generation of LLM products. Join us if you:• Care about pushing the frontier of novel research on performant, responsible, and unbiased LLMs and don’t accept the status quo of helpfulness-safety tradeoffs.• Are excited at the idea of democratizing state-of-the-art research on safe and responsible AI and motivated to work at a\\n2023 CB Insights Top 100 AI Startup\\nand see your impact on end customers in the timeframe of weeks not years.• Wish to work on the premier platform for compliant LLMs. We provide the fastest end to end solution to deploy research in the real world with our fast-paced team of ML Ph.D.’s and builders, free of Big Tech / academic bureaucracy and constraints.\\nResponsibilities\\nSpearhead an LLM research domain with a focus on safety, quality, explainability, evaluation, and/or adversarial attacks.\\nPush the envelope by developing novel techniques and research that delivers the world’s most harmless and helpful models. Your research will directly empower our customers to more feasibly deploy safe and responsible LLMs.\\nCo-author papers, patents, and presentations with our research team. Collaborate with our engineering, product, and sales teams to deliver state-of-the-art techniques to end customers.\\nLead research projects end-to-end, including generating high quality synthetic data, training LLMs, and conducting rigorous benchmarking.\\nDeliver generalizable, scalable, and reproducible algorithms.\\nQualifications\\nDeep research domain knowledge in LLM safety techniques.\\nExtensive research experience in aligning, training, and/or attacking multiple different types of LLM models and architectures in the real world. Comfortability with leading end-to-end projects.\\nAdaptability and flexibility. In both the academic and startup world, a new finding in the community may necessitate an abrupt shift in focus. You must be able to learn, implement, and extend state-of-the-art research.\\nDynamo AI is committed to maintaining compliance with all applicable local and state laws regarding job listings and salary transparency. This includes adhering to specific regulations that mandate the disclosure of salary ranges in job postings or upon request during the hiring process. We strive to ensure our practices promote fairness, equity, and transparency for all candidates.\\nSalary for this position may vary based on several factors, including the candidate's experience, expertise, and the geographic location of the role. Compensation is determined to ensure competitiveness and equity, reflecting the cost of living in different regions and the specific skills and qualifications of the candidate.\",\n",
              "  'Salary Range:': None},\n",
              " {'Job Title': 'Staff Software Engineer',\n",
              "  'Job Description': 'About Moonhub\\nRecruiting is a $70B industry that impacts millions of people’s livelihoods and Moonhub is on a mission to build the world’s first AI recruiter. We’re a team of AI researchers, software engineers, and technical recruiters. The Moonhub platform orchestrates agentic actions over a vast amount of workforce data to tackle complex workflows. Recruiters are able to collaborate with the AI to quickly analyze talent pools, find and evaluate candidates, and manage multiple pipelines.\\nMoonhub’s founder, Nancy Xu, started a recruiting agency while researching AI at Stanford. We’ve raised funding from Khosla Ventures, Marc Benioff (Salesforce founder), and others.\\nAbout the Role\\nAs a Fullstack Software Engineer, you will lead the design, development, and delivery of AI services and products. You will tackle ambiguous problems in recruiting with even more ambiguous data, software, and AI solutions. You will collaborate closely with product, design, and recruiting to prototype innovative approaches and architect scalable systems. Your technical expertise and leadership ability will contribute to the success of the team and the product.\\nRequirements\\n6+ years software development experience at a venture-backed startup or top technology company.2+ year operating in a technical lead capacity.Ability to understand complex domains and product requirements and translate into high quality product and technical solutions.Fluency in building backend and full-stack web applications in Python and ReactExcellent technical communication and ability to collaborate with partners of all levels and functions.\\nNice to haves\\nExperience in mentoring fellow engineers through pairing, code review, and giving actionable feedback.Experience building products and systems that leverage ML, AI, and LLMsExperience in startup environment (founder or early engineer)Experience working in data intensive applicationsExperience with search',\n",
              "  'Salary Range:': None},\n",
              " {'Job Title': 'ML Research Engineer — LLM Safety',\n",
              "  'Job Description': \"At\\nDynamo AI\\n, we believe that LLMs must be developed with safety, privacy, and real-world responsibility in mind. Our ML team comes from a culture of academic research driven to democratize AI advancements responsibly. By operating at the intersection of ML research and industry applications, our team empowers Fortune 500 companies’ adoption of frontier research for their next generation of LLM products. Join us if you:\\n• Wish to work on the premier platform for private and personalized LLMs. We provide the fastest end to end solution to deploy research in the real world with our fast-paced team of ML Ph.D.’s and builders, free of Big Tech / academic bureaucracy and constraints.\\n• Are excited at the idea of democratizing state-of-the-art research on safe and responsible AI.\\n• Are motivated to work at a\\n2023 CB Insights Top 100 AI Startup\\nand see your impact on end customers in the timeframe of weeks not years.\\n• Care about building a platform to empower fair, unbiased, and responsible development of LLMs and don’t accept the status quo of sacrificing user privacy for the sake of ML advancement.\\nResponsibilities\\nOwn an LLM vertical with a focus on a specific safety domain, technique, or use case (either from defense or red-team attack perspective)\\nGenerate high quality synthetic data, train LLMs, and conduct rigorous benchmarking.\\nDeliver robust, scalable, and reproducible production code.\\nPush the envelope by developing novel techniques and research that delivers the world’s most harmless and helpful models. Your research will directly empower our customers to more feasibly deploy safe and responsible LLMs.\\nCo-author papers, patents, and presentations with our research team by integrating other members’ work with your vertical.\\nQualifications\\nDeep domain knowledge in LLM safety techniques.\\nExtensive experience in designing, training, and implementing multiple different types of LLM models and architectures in the real world. Comfortability with leading end-to-end projects.\\nAdaptability and flexibility. In both the academic and startup world, a new finding in the community may necessitate an abrupt shift in focus. You must be able to learn, implement, and extend state-of-the-art research.\\nPreferred: past research or projects in either attacking or defending LLMs.\\nDynamo AI is committed to maintaining compliance with all applicable local and state laws regarding job listings and salary transparency. This includes adhering to specific regulations that mandate the disclosure of salary ranges in job postings or upon request during the hiring process. We strive to ensure our practices promote fairness, equity, and transparency for all candidates.\\nSalary for this position may vary based on several factors, including the candidate's experience, expertise, and the geographic location of the role. Compensation is determined to ensure competitiveness and equity, reflecting the cost of living in different regions and the specific skills and qualifications of the candidate.\",\n",
              "  'Salary Range:': None},\n",
              " {'Job Title': 'Technical Product Manager',\n",
              "  'Job Description': \"As the\\nTechnical Product Manager\\nfor the Core Platform at Dynamo.ai, you will be responsible for steering the vision, strategy, and execution of our platform's infrastructure and deployment capabilities. This is a hands-on, high-impact role that requires deep technical expertise, a strong understanding of platform engineering, and excellent stakeholder management skills.You will collaborate closely with engineering, compliance, and customer success teams to ensure that Dynamo.ai’s platform meets customer requirements, handles demanding performance metrics, and maintains industry-leading standards of security, scalability, and usability.\\nResponsibilities\\nBelow are the Responsibilities for the Technical Product Manager Role:\\n1. Platform Deployment as a PaaS (Platform as a Service)\\nDefine and prioritize technical requirements to ensure the\\nDynamo.ai\\nproduct can be deployed seamlessly in customer environments (e.g., VPCs, on-premises physical servers) as a scalable PaaS offering.\\nCollaborate with engineering teams to optimize Kubernetes-based deployment pipelines to support high throughput and ultra-low latency.\\nWork with DevOps and infrastructure engineers to enhance platform stability and ensure robust CI/CD practices for customer environments.\\n2. Security and Compliance\\nEnsure the platform aligns with industry standards such as SOC2, ISO 27001, and customer-specific compliance needs.\\nDrive the implementation of robust Role-Based Access Control (RBAC) systems, encryption protocols, and other security features.\\nPartner with security teams to develop and execute audits, penetration testing, and ongoing compliance validation.\\n3. Documentation and Self-Installation Enablement\\nLead the creation of detailed, user-friendly documentation and installation guides to empower customers to independently deploy and manage\\nDynamo.ai\\n’s platform.\\nCollect feedback from customers to continuously improve the self-installation process and reduce dependency on\\nDynamo.ai\\n’s technical support.\\n4. SaaS Platform Scalability and Robustness\\nOversee initiatives to ensure the SaaS offering can scale efficiently to handle large numbers of customer users without compromising performance.\\nIdentify potential bottlenecks in the SaaS architecture and collaborate with engineers to address them proactively.\\n5. System Validation and Error Messaging\\nDefine and implement validation testing strategies to ensure the platform is resilient when deployed in diverse customer environments.\\nWork with engineering teams to create clear, actionable error messages that improve troubleshooting and system reliability.\\nQualifications\\nBelow are the Qualifications for the Technical Product Manager Role:\\nExperience:\\n3+ years\\nof product management experience in a technical role, preferably in platform engineering, infrastructure, or DevOps-oriented environments.\\nExperience managing PaaS products deployed in both cloud and on-prem environments.\\nProven track record of driving large-scale deployments with performance and latency requirements.\\nTechnical Expertise\\n:\\nStrong understanding of Kubernetes, container orchestration, and microservices architecture.\\nFamiliarity with cloud infrastructure (AWS, Azure, GCP) and on-premises deployment models.\\nKnowledge of security and compliance frameworks (e.g., SOC2, ISO 27001, RBAC).\\nExperience with CI/CD pipelines, observability tools, and system validation testing.\\nSoft Skills\\n:\\nExcellent communication skills with the ability to translate technical details into business value for stakeholders.\\nStrong problem-solving skills with a customer-first mindset.\\nProven ability to collaborate cross-functionally with engineering, security, and customer success teams.\\nEducation\\n:\\nBachelor’s degree in Computer Science, Engineering, or a related technical field (or equivalent experience).\\nAdvanced degrees or certifications in cloud computing, product management, or security are a plus.\\nPreferred Qualifications:\\nExperience working with high-throughput systems and real-time data processing.\\nFamiliarity with AI/ML platforms and their unique deployment challenges.\\nPrior experience in customer-facing roles, understanding deployment challenges in enterprise environments.\\nDynamo AI is committed to maintaining compliance with all applicable local and state laws regarding job listings and salary transparency. This includes adhering to specific regulations that mandate the disclosure of salary ranges in job postings or upon request during the hiring process. We strive to ensure our practices promote fairness, equity, and transparency for all candidates.\\nSalary for this position may vary based on several factors, including the candidate's experience, expertise, and the geographic location of the role. Compensation is determined to ensure competitiveness and equity, reflecting the cost of living in different regions and the specific skills and qualifications of the candidate.\",\n",
              "  'Salary Range:': None},\n",
              " {'Job Title': 'Study Participant – On-Site Research Study',\n",
              "  'Job Description': 'Please Note: This is a one-time paid voluntary study.\\nLXT is an emerging leader in AI training data to power intelligent technology for global organizations. In partnership with an international network of contributors, LXT collects and annotates data across multiple modalities with the speed, scale and agility required by the enterprise.\\nWe are seeking individuals to participate in a one-time, 2-hour, on-site research study in San Diego, CA. As a thank you for completing the study you will receive $130. As a participant, you will contribute to important research by performing a series of tasks while data is being collected. The project aims to collect video data and body scans to improve devices such as smartphones and tablets improving user experience. Please complete the form below if you are interested in participating.\\nKey responsibilities:\\nArrive on-site at the scheduled time and be greeted by a study team member.\\nReceive a high-level overview of the study’s purpose and procedures.\\nReview and sign an informed consent form.\\nUndergo a series of body measurements and answer in-take questions.\\nPerform various movements such as rotating and balancing on one leg, bending your knees, walking, and about 30 minutes of continuous activity.\\nBe comfortable wearing gym clothes (you bring) and two sets of athletic clothes that the study will provide.\\nOverall, the study will take 2 hours and participation is voluntary.\\nRequirements\\nBe able to attend the study location on-site in San Diego, CA.\\nBe able to perform moderate physical activities, including light stretching.\\nBe comfortable with changing clothing and repeating tasks as instructed.\\nBe comfortable with physical contact.\\nModerators will need to touch your head, face, neck, shoulders, arms, waist, hips, and legs to take accurate measurements.\\nCompensation\\nParticipants will receive $130 electronically for completing the two-hour study. Please note that fees may be deducted depending on the chosen payment method.\\n*Please note you will receive an email with a link to a form after you submit your application. Please ensure you complete the form to be included in the study.',\n",
              "  'Salary Range:': None},\n",
              " {'Job Title': 'Machine Learning Engineer Graduate (E-Commerce Supply Chain & Logistics)- 2026 Start (PhD)',\n",
              "  'Job Description': 'ResponsibilitiesTeam Introduction:Join the E-commerce Global Supply Chain and Logistics team at TikTok! We\\'re enhancing the shopping experience and reducing logistics operational costs. We are seeking brilliant and motivated graduate software engineers, who are eager to apply their knowledge in machine learning (ML), operations research (OR), data mining, and statistical inference to real-world challenges.We are looking for talented individuals to join our team in 2026. As a graduate, you will get unparalleled opportunities for you to kickstart your career, pursue bold ideas and explore limitless growth opportunities. Co-create a future driven by your inspiration with ByteDanceSuccessful candidates must be able to commit to an onboarding date by end of year 2026.Please state your availability and graduation date clearly in your resume. Applications will be reviewed on a rolling basis - we encourage you to apply early.Responsibilities:1. Responsible for the development of deep learning and operations research models and related intelligent systems for the supply chain and logistics of the global E-Commerce business.2. Utilize e-commerce big data and deep learning models to predict end-to-end estimated time of arrival (ETA), and some logistics events such as failed delivery, delivered but not received to enhance the user logistics experience.  Build logistics network knowledge graphs and predict the spatio-temporal trajectory sequence of express packages through deep learning, statistical inference and other algorithmic methods. Use NLP and LLM algorithms to handle address problems such as address verification and address suggestion.3. Utilize time series forecasting techniques to predict sales at different granularities and horizons, such as warehouse-level manpower forecasting, inventory-level demand forecasting etc. We need strong machine learning and deep learning skills to detect important factors and model the relationship between the future and history. 4. Participate in the growth of e-commerce merchants/creators, responsible for the growth algorithm of e-commerce merchants/creators, including potential merchants/creators mining algorithm, tiering algorithm, out-reach algorithm, growth algorithm, etc. Work closely with e-commerce merchants/creators related operations and product teams to achieve the high-quality growth goal of e-commerce merchants/creators.5. Combined with massive e-commerce information, through data mining and machine learning, predict the performance of products in traffic/conversion, improve the efficiency of product operation strategy and pricing/subsidy strategy, and assist in optimizing traffic distribution, to satisfy the requirements of product growth, cost optimization and some other scenarios.QualificationsMinimum Qualifications:- Master\\'s or Phd degree in fields such as artificial intelligence, computer science, operations research, automation, statistics, mathematics, or related disciplines, with experience in data mining and deep learning. - Proficient in machine learning and statistics, familiar with the principles and model structures of common machine learning and deep learning algorithms for classification, regression, and clustering, with practical application experience.- Proficient in programming languages such as Python/Java, possessing excellent coding abilities, and familiar with at least one common machine learning/deep learning framework (TensorFlow/PyTorch etc.).Demonstrates a spirit of exploration, outstanding data analysis capabilities, strong initiative, and excellent teamwork and communication skills.Preferred Qualifications:- Demonstrated software engineering experience from previous internship, work experience, coding competitions, or publications- Internship experience or research experience, especially in e-commerce, supply chain, logistics, and transportation.- Published papers at conferences such as KDD, NeurIPS, WWW, SIGIR, WSDM, ICML, IJCAI, AAAI, RecSys, or having participated in data mining/machine learning competitions.Job Information【For Pay Transparency】Compensation Description (Annually)The base salary range for this position in the selected city is $137750 - $237500 annually.\\u200bCompensation may vary outside of this range depending on a number of factors, including a candidate’s qualifications, skills, competencies and experience, and location. Base pay is one part of the Total Package that is provided to compensate and recognize employees for their work, and this role may be eligible for additional discretionary bonuses/incentives, and restricted stock units.\\u200bBenefits may vary depending on the nature of employment and the country work location. Employees have day one access to medical, dental, and vision insurance, a 401(k) savings plan with company match, paid parental leave, short-term and long-term disability coverage, life insurance, wellbeing benefits, among others. Employees also receive 10 paid holidays per year, 10 paid sick days per year and 17 days of Paid Personal Time (prorated upon hire with increasing accruals by tenure).\\u200bThe Company reserves the right to modify or change these benefits programs at any time, with or without notice.\\u200bFor Los Angeles County (unincorporated) Candidates:\\u200bQualified applicants with arrest or conviction records will be considered for employment in accordance with all federal, state, and local laws including the Los Angeles County Fair Chance Ordinance for Employers and the California Fair Chance Act. Our company believes that criminal history may have a direct, adverse and negative relationship on the following job duties, potentially resulting in the withdrawal of the conditional offer of employment:\\u200b1. Interacting and occasionally having unsupervised contact with internal/external clients and/or colleagues;\\u200b2. Appropriately handling and managing confidential information including proprietary and trade secret information and access to information technology systems; and\\u200b3. Exercising sound judgment.\\u200bAbout UsFounded in 2012, ByteDance\\'s mission is to inspire creativity and enrich life. With a suite of more than a dozen products, including TikTok, Lemon8, CapCut and Pico as well as platforms specific to the China market, including Toutiao, Douyin, and Xigua, ByteDance has made it easier and more fun for people to connect with, consume, and create content.\\u200bWhy Join ByteDanceInspiring creativity is at the core of ByteDance\\'s mission. Our innovative products are built to help people authentically express themselves, discover and connect – and our global, diverse teams make that possible. Together, we create value for our communities, inspire creativity and enrich life - a mission we work towards every day.\\u200bAs ByteDancers, we strive to do great things with great people. We lead with curiosity, humility, and a desire to make impact in a rapidly growing tech company. By constantly iterating and fostering an \"Always Day 1\" mindset, we achieve meaningful breakthroughs for ourselves, our Company, and our users. When we create and grow together, the possibilities are limitless. Join us.\\u200bDiversity &amp; Inclusion\\u200bByteDance is committed to creating an inclusive space where employees are valued for their skills, experiences, and unique perspectives. Our platform connects people from across the globe and so does our workplace. At ByteDance, our mission is to inspire creativity and enrich life. To achieve that goal, we are committed to celebrating our diverse voices and to creating an environment that reflects the many communities we reach. We are passionate about this and hope you are too.\\u200bReasonable AccommodationByteDance is committed to providing reasonable accommodations in our recruitment processes for candidates with disabilities, pregnancy, sincerely held religious beliefs or other reasons protected by applicable laws. If you need assistance or a reasonable accommodation, please reach out to us at https://tinyurl.com/RA-request\\u200b',\n",
              "  'Salary Range:': '$137,750 - $237,500'},\n",
              " {'Job Title': 'Head of AI Solutions',\n",
              "  'Job Description': \"As the Head of AI Solutions at Dynamo, you will play a major leadership role and act as a face of Dynamo to our engaged enterprise customers. You will connect the dots between enterprise needs and Dynamo’s AI solutions and need to think creatively in high stake scenarios to maximize ROI for Dynamo’s customers.\\nResponsibilities\\nDevelop strategies to most effectively address enterprise customer needs by mapping Dynamo’s capabilities to customer pain points.\\nPrepare presentations and materials that effectively convey status updates, engagement timelines, and overall ROI for enterprise customers.\\nIdentify and quantify pain points and needs in Dynamo’s customer’s AI development workflows\\nExecute plans for successfully meeting customer deliverables and maximizing ROI for Dynamo’s customers by coordinating closely with Dynamo’s ML, engineering, policy, and product teams.\\nQualifications\\nStrong presentation, writing, and communication skills\\nActively looking to learn about the workflows of ML, product, and engineering teammates to better coordinate with these teams\\nExperience with managing teams, projects, or products, which required scoping projects, coordinating deliverables, and communicating requirements to teammates.\\nExperience with machine learning topics (e.g. Huggingface, Llamaindex, LangChain, PyTorch, Neural networks, LLMs) is a plus\\nExperience leading ML or engineering teams in financial services is a plus\\nDynamo AI is committed to maintaining compliance with all applicable local and state laws regarding job listings and salary transparency. This includes adhering to specific regulations that mandate the disclosure of salary ranges in job postings or upon request during the hiring process. We strive to ensure our practices promote fairness, equity, and transparency for all candidates.\\nSalary for this position may vary based on several factors, including the candidate's experience, expertise, and the geographic location of the role. Compensation is determined to ensure competitiveness and equity, reflecting the cost of living in different regions and the specific skills and qualifications of the candidate.\",\n",
              "  'Salary Range:': None},\n",
              " {'Job Title': None, 'Job Description': None, 'Salary Range:': None},\n",
              " {'Job Title': None, 'Job Description': None, 'Salary Range:': None},\n",
              " {'Job Title': None, 'Job Description': None, 'Salary Range:': None},\n",
              " {'Job Title': None, 'Job Description': None, 'Salary Range:': None},\n",
              " {'Job Title': None, 'Job Description': None, 'Salary Range:': None}]"
            ]
          },
          "metadata": {},
          "execution_count": 11
        }
      ],
      "source": [
        "job_data_list"
      ]
    },
    {
      "cell_type": "markdown",
      "id": "e7e2f2f1-8619-458c-8a09-793dbca0aec2",
      "metadata": {
        "id": "e7e2f2f1-8619-458c-8a09-793dbca0aec2"
      },
      "source": [
        "### save job data to file"
      ]
    },
    {
      "cell_type": "code",
      "execution_count": 12,
      "id": "f8602db4-ab2f-4fcf-bad4-278333f424d7",
      "metadata": {
        "id": "f8602db4-ab2f-4fcf-bad4-278333f424d7"
      },
      "outputs": [],
      "source": [
        "df = pd.DataFrame(job_data_list)"
      ]
    },
    {
      "cell_type": "code",
      "execution_count": 13,
      "id": "c98bd299-8313-48bc-8f5f-435f8baba1e6",
      "metadata": {
        "colab": {
          "base_uri": "https://localhost:8080/",
          "height": 363
        },
        "id": "c98bd299-8313-48bc-8f5f-435f8baba1e6",
        "outputId": "cf2d8f8e-7d96-4905-eba8-2410647b9e92"
      },
      "outputs": [
        {
          "output_type": "execute_result",
          "data": {
            "text/plain": [
              "                                           Job Title  \\\n",
              "0  Bioacoustics Machine Learning Post Doctoral As...   \n",
              "1                          AI Fellows (12-month LTE)   \n",
              "2                  Senior Software Engineer - Agents   \n",
              "3                 Lead Software Engineer, ML Backend   \n",
              "4  Staff Engineer, Software Autonomy Applications...   \n",
              "5                   ML Application Security Engineer   \n",
              "6               Solutions Engineering Senior Manager   \n",
              "7                       ML Engineer — LLM Evaluation   \n",
              "8                           ML Engineer – LLM Safety   \n",
              "9                          ML Engineer — LLM Privacy   \n",
              "\n",
              "                                     Job Description        Salary Range:  \n",
              "0  HOW YOU WILL IMPACT OUR MISSION\\nThe Post-Doct...              $87,264  \n",
              "1  AI Fellows (12-month LTE*)\\nLocation:\\nSeattle...                 None  \n",
              "2  About xAI\\nxAI’s mission is to create AI syste...  $180,000 - $440,000  \n",
              "3  At Dynamo AI, our mission is to empower every ...                 None  \n",
              "4  Founded in 2015, Shield AI is a venture-backed...                 None  \n",
              "5  At\\nDynamo AI\\n, we believe that LLMs must be ...                 None  \n",
              "6  We are seeking a strategic and innovative Solu...                 None  \n",
              "7  At\\nDynamo AI\\n, we believe that LLMs must be ...                 None  \n",
              "8  At\\nDynamo AI\\n, we believe that LLMs must be ...                 None  \n",
              "9  At\\nDynamo AI\\n, we believe that LLMs must be ...                 None  "
            ],
            "text/html": [
              "\n",
              "  <div id=\"df-e85d1610-ea94-4571-8935-6962846b784d\" class=\"colab-df-container\">\n",
              "    <div>\n",
              "<style scoped>\n",
              "    .dataframe tbody tr th:only-of-type {\n",
              "        vertical-align: middle;\n",
              "    }\n",
              "\n",
              "    .dataframe tbody tr th {\n",
              "        vertical-align: top;\n",
              "    }\n",
              "\n",
              "    .dataframe thead th {\n",
              "        text-align: right;\n",
              "    }\n",
              "</style>\n",
              "<table border=\"1\" class=\"dataframe\">\n",
              "  <thead>\n",
              "    <tr style=\"text-align: right;\">\n",
              "      <th></th>\n",
              "      <th>Job Title</th>\n",
              "      <th>Job Description</th>\n",
              "      <th>Salary Range:</th>\n",
              "    </tr>\n",
              "  </thead>\n",
              "  <tbody>\n",
              "    <tr>\n",
              "      <th>0</th>\n",
              "      <td>Bioacoustics Machine Learning Post Doctoral As...</td>\n",
              "      <td>HOW YOU WILL IMPACT OUR MISSION\\nThe Post-Doct...</td>\n",
              "      <td>$87,264</td>\n",
              "    </tr>\n",
              "    <tr>\n",
              "      <th>1</th>\n",
              "      <td>AI Fellows (12-month LTE)</td>\n",
              "      <td>AI Fellows (12-month LTE*)\\nLocation:\\nSeattle...</td>\n",
              "      <td>None</td>\n",
              "    </tr>\n",
              "    <tr>\n",
              "      <th>2</th>\n",
              "      <td>Senior Software Engineer - Agents</td>\n",
              "      <td>About xAI\\nxAI’s mission is to create AI syste...</td>\n",
              "      <td>$180,000 - $440,000</td>\n",
              "    </tr>\n",
              "    <tr>\n",
              "      <th>3</th>\n",
              "      <td>Lead Software Engineer, ML Backend</td>\n",
              "      <td>At Dynamo AI, our mission is to empower every ...</td>\n",
              "      <td>None</td>\n",
              "    </tr>\n",
              "    <tr>\n",
              "      <th>4</th>\n",
              "      <td>Staff Engineer, Software Autonomy Applications...</td>\n",
              "      <td>Founded in 2015, Shield AI is a venture-backed...</td>\n",
              "      <td>None</td>\n",
              "    </tr>\n",
              "    <tr>\n",
              "      <th>5</th>\n",
              "      <td>ML Application Security Engineer</td>\n",
              "      <td>At\\nDynamo AI\\n, we believe that LLMs must be ...</td>\n",
              "      <td>None</td>\n",
              "    </tr>\n",
              "    <tr>\n",
              "      <th>6</th>\n",
              "      <td>Solutions Engineering Senior Manager</td>\n",
              "      <td>We are seeking a strategic and innovative Solu...</td>\n",
              "      <td>None</td>\n",
              "    </tr>\n",
              "    <tr>\n",
              "      <th>7</th>\n",
              "      <td>ML Engineer — LLM Evaluation</td>\n",
              "      <td>At\\nDynamo AI\\n, we believe that LLMs must be ...</td>\n",
              "      <td>None</td>\n",
              "    </tr>\n",
              "    <tr>\n",
              "      <th>8</th>\n",
              "      <td>ML Engineer – LLM Safety</td>\n",
              "      <td>At\\nDynamo AI\\n, we believe that LLMs must be ...</td>\n",
              "      <td>None</td>\n",
              "    </tr>\n",
              "    <tr>\n",
              "      <th>9</th>\n",
              "      <td>ML Engineer — LLM Privacy</td>\n",
              "      <td>At\\nDynamo AI\\n, we believe that LLMs must be ...</td>\n",
              "      <td>None</td>\n",
              "    </tr>\n",
              "  </tbody>\n",
              "</table>\n",
              "</div>\n",
              "    <div class=\"colab-df-buttons\">\n",
              "\n",
              "  <div class=\"colab-df-container\">\n",
              "    <button class=\"colab-df-convert\" onclick=\"convertToInteractive('df-e85d1610-ea94-4571-8935-6962846b784d')\"\n",
              "            title=\"Convert this dataframe to an interactive table.\"\n",
              "            style=\"display:none;\">\n",
              "\n",
              "  <svg xmlns=\"http://www.w3.org/2000/svg\" height=\"24px\" viewBox=\"0 -960 960 960\">\n",
              "    <path d=\"M120-120v-720h720v720H120Zm60-500h600v-160H180v160Zm220 220h160v-160H400v160Zm0 220h160v-160H400v160ZM180-400h160v-160H180v160Zm440 0h160v-160H620v160ZM180-180h160v-160H180v160Zm440 0h160v-160H620v160Z\"/>\n",
              "  </svg>\n",
              "    </button>\n",
              "\n",
              "  <style>\n",
              "    .colab-df-container {\n",
              "      display:flex;\n",
              "      gap: 12px;\n",
              "    }\n",
              "\n",
              "    .colab-df-convert {\n",
              "      background-color: #E8F0FE;\n",
              "      border: none;\n",
              "      border-radius: 50%;\n",
              "      cursor: pointer;\n",
              "      display: none;\n",
              "      fill: #1967D2;\n",
              "      height: 32px;\n",
              "      padding: 0 0 0 0;\n",
              "      width: 32px;\n",
              "    }\n",
              "\n",
              "    .colab-df-convert:hover {\n",
              "      background-color: #E2EBFA;\n",
              "      box-shadow: 0px 1px 2px rgba(60, 64, 67, 0.3), 0px 1px 3px 1px rgba(60, 64, 67, 0.15);\n",
              "      fill: #174EA6;\n",
              "    }\n",
              "\n",
              "    .colab-df-buttons div {\n",
              "      margin-bottom: 4px;\n",
              "    }\n",
              "\n",
              "    [theme=dark] .colab-df-convert {\n",
              "      background-color: #3B4455;\n",
              "      fill: #D2E3FC;\n",
              "    }\n",
              "\n",
              "    [theme=dark] .colab-df-convert:hover {\n",
              "      background-color: #434B5C;\n",
              "      box-shadow: 0px 1px 3px 1px rgba(0, 0, 0, 0.15);\n",
              "      filter: drop-shadow(0px 1px 2px rgba(0, 0, 0, 0.3));\n",
              "      fill: #FFFFFF;\n",
              "    }\n",
              "  </style>\n",
              "\n",
              "    <script>\n",
              "      const buttonEl =\n",
              "        document.querySelector('#df-e85d1610-ea94-4571-8935-6962846b784d button.colab-df-convert');\n",
              "      buttonEl.style.display =\n",
              "        google.colab.kernel.accessAllowed ? 'block' : 'none';\n",
              "\n",
              "      async function convertToInteractive(key) {\n",
              "        const element = document.querySelector('#df-e85d1610-ea94-4571-8935-6962846b784d');\n",
              "        const dataTable =\n",
              "          await google.colab.kernel.invokeFunction('convertToInteractive',\n",
              "                                                    [key], {});\n",
              "        if (!dataTable) return;\n",
              "\n",
              "        const docLinkHtml = 'Like what you see? Visit the ' +\n",
              "          '<a target=\"_blank\" href=https://colab.research.google.com/notebooks/data_table.ipynb>data table notebook</a>'\n",
              "          + ' to learn more about interactive tables.';\n",
              "        element.innerHTML = '';\n",
              "        dataTable['output_type'] = 'display_data';\n",
              "        await google.colab.output.renderOutput(dataTable, element);\n",
              "        const docLink = document.createElement('div');\n",
              "        docLink.innerHTML = docLinkHtml;\n",
              "        element.appendChild(docLink);\n",
              "      }\n",
              "    </script>\n",
              "  </div>\n",
              "\n",
              "\n",
              "    <div id=\"df-e430a20a-3a57-4796-9d3c-ba065b05919d\">\n",
              "      <button class=\"colab-df-quickchart\" onclick=\"quickchart('df-e430a20a-3a57-4796-9d3c-ba065b05919d')\"\n",
              "                title=\"Suggest charts\"\n",
              "                style=\"display:none;\">\n",
              "\n",
              "<svg xmlns=\"http://www.w3.org/2000/svg\" height=\"24px\"viewBox=\"0 0 24 24\"\n",
              "     width=\"24px\">\n",
              "    <g>\n",
              "        <path d=\"M19 3H5c-1.1 0-2 .9-2 2v14c0 1.1.9 2 2 2h14c1.1 0 2-.9 2-2V5c0-1.1-.9-2-2-2zM9 17H7v-7h2v7zm4 0h-2V7h2v10zm4 0h-2v-4h2v4z\"/>\n",
              "    </g>\n",
              "</svg>\n",
              "      </button>\n",
              "\n",
              "<style>\n",
              "  .colab-df-quickchart {\n",
              "      --bg-color: #E8F0FE;\n",
              "      --fill-color: #1967D2;\n",
              "      --hover-bg-color: #E2EBFA;\n",
              "      --hover-fill-color: #174EA6;\n",
              "      --disabled-fill-color: #AAA;\n",
              "      --disabled-bg-color: #DDD;\n",
              "  }\n",
              "\n",
              "  [theme=dark] .colab-df-quickchart {\n",
              "      --bg-color: #3B4455;\n",
              "      --fill-color: #D2E3FC;\n",
              "      --hover-bg-color: #434B5C;\n",
              "      --hover-fill-color: #FFFFFF;\n",
              "      --disabled-bg-color: #3B4455;\n",
              "      --disabled-fill-color: #666;\n",
              "  }\n",
              "\n",
              "  .colab-df-quickchart {\n",
              "    background-color: var(--bg-color);\n",
              "    border: none;\n",
              "    border-radius: 50%;\n",
              "    cursor: pointer;\n",
              "    display: none;\n",
              "    fill: var(--fill-color);\n",
              "    height: 32px;\n",
              "    padding: 0;\n",
              "    width: 32px;\n",
              "  }\n",
              "\n",
              "  .colab-df-quickchart:hover {\n",
              "    background-color: var(--hover-bg-color);\n",
              "    box-shadow: 0 1px 2px rgba(60, 64, 67, 0.3), 0 1px 3px 1px rgba(60, 64, 67, 0.15);\n",
              "    fill: var(--button-hover-fill-color);\n",
              "  }\n",
              "\n",
              "  .colab-df-quickchart-complete:disabled,\n",
              "  .colab-df-quickchart-complete:disabled:hover {\n",
              "    background-color: var(--disabled-bg-color);\n",
              "    fill: var(--disabled-fill-color);\n",
              "    box-shadow: none;\n",
              "  }\n",
              "\n",
              "  .colab-df-spinner {\n",
              "    border: 2px solid var(--fill-color);\n",
              "    border-color: transparent;\n",
              "    border-bottom-color: var(--fill-color);\n",
              "    animation:\n",
              "      spin 1s steps(1) infinite;\n",
              "  }\n",
              "\n",
              "  @keyframes spin {\n",
              "    0% {\n",
              "      border-color: transparent;\n",
              "      border-bottom-color: var(--fill-color);\n",
              "      border-left-color: var(--fill-color);\n",
              "    }\n",
              "    20% {\n",
              "      border-color: transparent;\n",
              "      border-left-color: var(--fill-color);\n",
              "      border-top-color: var(--fill-color);\n",
              "    }\n",
              "    30% {\n",
              "      border-color: transparent;\n",
              "      border-left-color: var(--fill-color);\n",
              "      border-top-color: var(--fill-color);\n",
              "      border-right-color: var(--fill-color);\n",
              "    }\n",
              "    40% {\n",
              "      border-color: transparent;\n",
              "      border-right-color: var(--fill-color);\n",
              "      border-top-color: var(--fill-color);\n",
              "    }\n",
              "    60% {\n",
              "      border-color: transparent;\n",
              "      border-right-color: var(--fill-color);\n",
              "    }\n",
              "    80% {\n",
              "      border-color: transparent;\n",
              "      border-right-color: var(--fill-color);\n",
              "      border-bottom-color: var(--fill-color);\n",
              "    }\n",
              "    90% {\n",
              "      border-color: transparent;\n",
              "      border-bottom-color: var(--fill-color);\n",
              "    }\n",
              "  }\n",
              "</style>\n",
              "\n",
              "      <script>\n",
              "        async function quickchart(key) {\n",
              "          const quickchartButtonEl =\n",
              "            document.querySelector('#' + key + ' button');\n",
              "          quickchartButtonEl.disabled = true;  // To prevent multiple clicks.\n",
              "          quickchartButtonEl.classList.add('colab-df-spinner');\n",
              "          try {\n",
              "            const charts = await google.colab.kernel.invokeFunction(\n",
              "                'suggestCharts', [key], {});\n",
              "          } catch (error) {\n",
              "            console.error('Error during call to suggestCharts:', error);\n",
              "          }\n",
              "          quickchartButtonEl.classList.remove('colab-df-spinner');\n",
              "          quickchartButtonEl.classList.add('colab-df-quickchart-complete');\n",
              "        }\n",
              "        (() => {\n",
              "          let quickchartButtonEl =\n",
              "            document.querySelector('#df-e430a20a-3a57-4796-9d3c-ba065b05919d button');\n",
              "          quickchartButtonEl.style.display =\n",
              "            google.colab.kernel.accessAllowed ? 'block' : 'none';\n",
              "        })();\n",
              "      </script>\n",
              "    </div>\n",
              "\n",
              "    </div>\n",
              "  </div>\n"
            ],
            "application/vnd.google.colaboratory.intrinsic+json": {
              "type": "dataframe",
              "variable_name": "df",
              "summary": "{\n  \"name\": \"df\",\n  \"rows\": 22,\n  \"fields\": [\n    {\n      \"column\": \"Job Title\",\n      \"properties\": {\n        \"dtype\": \"string\",\n        \"num_unique_values\": 17,\n        \"samples\": [\n          \"Bioacoustics Machine Learning Post Doctoral Associate\",\n          \"AI Fellows (12-month LTE)\",\n          \"ML Application Security Engineer\"\n        ],\n        \"semantic_type\": \"\",\n        \"description\": \"\"\n      }\n    },\n    {\n      \"column\": \"Job Description\",\n      \"properties\": {\n        \"dtype\": \"string\",\n        \"num_unique_values\": 17,\n        \"samples\": [\n          \"HOW YOU WILL IMPACT OUR MISSION\\nThe Post-Doctoral Associate oversees research projects and performs a variety of assigned research and diagnostic activities, while completing post-doctoral training in a specialized area of scientific research. This position reports to Scientist level or higher in the Conservation Science & Wildlife Health department.\\nWHAT YOU WILL DO\\nOversee assigned research projects.\\nCollect, process, and enters research data.\\nPerform experiments and measurements.\\nInterpret and analyze research results and revises procedures as necessary.\\nEstablish and maintain databases.\\nDocument research methodology and results.\\nPrepare progress reports.\\nConduct and oversee investigations of study subjects.\\nWHAT WE ARE LOOKING FOR\\nThe San Diego Zoo Wildlife Alliance Conservation Technology Lab seeks a postdoctoral associate for a three-year position applying their machine learning expertise to bioacoustics problems in ecology and conservation.\\nThe problems include identifying species in acoustically complex field recordings from passive acoustic recorders for biodiversity monitoring and other ecological studies; improving methods for unsupervised, semi-supervised, and/or active learning-based preparation of such data; evaluating, refining, and designing tools for managing and analyzing data from passive acoustic recorders; helping guide the design of TinyML acoustic models for use in embedded devices; researching classification (in some taxa) to intraspecific class (e.g. chick/juvenile/adult) or, aspirationaly, individual level; and investigating optimal alignment between cutting-edge ML capabilities and the requirements of ecological methods commonly used in conservation.\\nThe work will make use of existing multi-year datasets and its outputs will contribute to projects across the SDZWA Global Hubs including in the Peruvian Amazon, in Cameroon's Ebo Forest, in the savannas of Kenya, with burrowing owls and other grassland species in the US Southwest, and with polar and panda bears.\\nThe desired candidate has a doctoral degree in computer science or a related field with a focus in machine learning (ML), with a preference for candidates with experience specifically in applying ML to acoustic data.\\u00a0 An ideal candidate already has experience in bioacoustics and/or passive acoustic monitoring.\\u00a0 Qualified candidates will be strong Python programmers; be highly skilled in the NumPy/SciPy/pandas/scikit-learn toolset; be advanced users of an ML framework such as PyTorch or TensorFlow and associated tools connected to audio processing like librosa; and possess in-depth knowledge about contemporary methods in machine learning.\\u00a0 Experience with R is a plus. The selected candidate will work with a diverse group of collaborators within SDZWA and also with our local and global partners, in particular with our faculty collaborators at UCSD and SDSU who specialize in machine learning and bioacoustics.\\nJOB EXPERIENCE\\nPosition responsible for ensuring compliance with established guidelines.\\nEDUCATION AND CERTIFICATIONS\\nPost Doctorate or Doctorate in Veterinary Medicine or equivalent specialized training required.\\nSKILLS AND KNOWLEDGE\\nSpecialization area preferred. (i.e. population biologist, demography, or genetics)\\nAble to communicate effectively, both orally and in writing.\\nAble to operate moderately complex computer software programs\\nDemonstrated ability to work with others in a diverse environment.\\nKnowledge of science communication or interpretation of scientific concepts.\\nSOME OF THE PERKS YOU WILL ENJOY AS A TEAM MEMBER\\nFree admission to the San Diego Zoo and the San Diego Zoo Safari Park\\nFamily Passes\\nComplimentary Tickets\\nLocal and In-House Discounts\\nEmployee Assistance Program\\nWellness Program\\nIMPORTANT DETAILS\\nLocation:\\u00a0Escondido, CA\\nPosition Type: Three Year, Salary, Full-Time, Exempt Position\\nSalary Rate:\\u00a0$87,264.80\",\n          \"AI Fellows (12-month LTE*)\\nLocation:\\nSeattle, WA\\nTime Type:\\nFull time\\nPosted On:\\nSeptember 4, /2025\\nEnd Date:\\nSeptember 20, 2025 (14 days left to apply)\\nJob Requisition ID:\\nB021159\\nThe Foundation\\nWe are the largest nonprofit fighting poverty, disease, and inequity around the world. Founded on a simple premise: people everywhere, regardless of identity or circumstances, should have the chance to live healthy, productive lives. We believe our employees should reflect the rich diversity of the global populations we aim to serve. We provide an exceptional benefits package to employees and their families which include comprehensive medical, dental, and vision coverage with no premiums, generous paid time off, paid family leave, foundation-paid retirement contribution, regional holidays, and opportunities to engage in several employee communities. As a workplace, we\\u2019re committed to creating an environment for you to thrive both personally and professionally.\\nThe Team\\nOur mission is to harness the power of artificial intelligence to bridge the digital divide, with a focus on ensuring AI is deployed ethically and equitably to benefit low- and middle-income countries (LMICs). As large language models continue to advance, we are committed to unlocking AI\\u2019s potential to drive innovative development solutions tailored to the needs of LMICs.\\nOur portfolio of initiatives is wide-ranging\\u2014spanning the design of new AI applications for decision support and conversational interventions, as well as advancing technical product development and impact in health, education, and agriculture. Building on the momentum of early proof-of-concept projects, our goal is to ensure that the benefits of AI are inclusive, reaching all segments of society.\\nPlease apply by EOD Friday, September 17 to be considered for the November 2025 cohort.\\n*Note: This is a 12-month limited term position. Candidates must be able to legally work in the country where this position is located without visa sponsorship.\\nYour Role\\nThe AI Fellows Program at the Gates Foundation is designed to accelerate the responsible and impactful use of AI in global health, development, and education. Our goal is to attract top-tier, mission-aligned AI talent to drive innovation in these areas. As a Gates AI Fellow, you will join a prestigious cohort applying AI for public good and gain career-defining experience, access to Gates\\u2019 powerful network, and exposure to senior leadership.\\nThis role offers the unique opportunity to collaborate across multiple divisions within the Foundation\\u2014including Global Health (GH), Gender Equality (GE), Global Development (GD), and Global Growth & Opportunity (GGO)\\u2014all of which are leveraging AI to accelerate progress toward their strategic goals and objectives.\\nOver the course of\\n12 months, each AI Fellow\\nwill be assigned to\\nhigh-priority projects\\n, embedded within Strategic Initiatives or relevant Programmatic Strategy Teams (PSTs).\\nSample project areas will include:\\n\\u2022 Developing agent-based data tools and dashboards (e.g., periodic AI-generated insights).\\n\\u2022 Building AI-powered prediction models for simple diagnostics.\\n\\u2022 Designing and running lightweight A/B tests to validate concepts quickly.\\n\\u2022 Building chatbots and interactive prototypes for pre-field assessment.\\n\\u2022 Pressure-testing or adapting tools developed by Foundation partners and grantees for usability and adoption.\\n\\u2022 Embedding AI agents in flagship Foundation databases or workflows.\\nWhat You\\u2019ll Do\\nProblem Identification & Scoping\\n\\u2022 Identify, frame, and prioritize real-world challenges in collaboration with program teams, ensuring solutions are grounded in user needs and local realities.\\nPrototyping & Rapid Experimentation\\n\\u2022 Prototype rapidly with modern LLM and AI tools to test feasibility, generate insights, and create lightweight demos.\\n\\u2022 Document learnings from prototypes and translate them into actionable recommendations for scale or next steps.\\nDesign and Deliver AI Solutions\\n\\u2022 Design and implement AI/ML models to address challenges in global health, development, agriculture, diagnostics, or education.\\n\\u2022 Conduct rigorous model evaluation and validation, ensuring accuracy, fairness, and real-world applicability.\\n\\u2022 Prepare, curate, and manage datasets, ensuring data integrity, security, and ethical use.\\n\\u2022 Develop high-quality, reliable software, applying strong engineering practices such as clean code, version control, and robust testing.\\n\\u2022 Leverage large language models (LLMs), including deployment, fine-tuning, and adaptation to specific use cases.\\nTeaching & Capacity Building\\n\\u2022 Develop and deliver workshops, guides, and playbooks to enable Foundation staff and partners to use LLM tools effectively in their own work.\\n\\u2022 Mentor program teams and local partners in applying AI responsibly, with a focus on usability and adoption in LMIC contexts.\\nCollaborate Across Teams and Partners\\n\\u2022 Apply interdisciplinary problem-solving skills to translate AI research into practical solutions across multiple domains.\\n\\u2022 Communicate technical concepts effectively to both technical and non-technical stakeholders, enabling shared understanding and informed decision-making.\\n\\u2022 Collaborate with cross-functional teams across disciplines and geographies to co-design and deliver impactful solutions.\\n\\u2022 Facilitate workshops and training sessions to demystify AI tools, enabling teams to directly apply solutions to their workflows.\\nAdvance Responsible and Ethical AI\\n\\u2022 Embed equity, bias mitigation, and data privacy in all technical approaches.\\n\\u2022 Ensure prototypes are designed with explainability in mind, making them accessible to non-technical stakeholders.\\n\\u2022 Align AI solutions with the Foundation\\u2019s mission and global health and development goals.\\n\\u2022 Share thought leadership by integrating prior academic, research, or professional experiences to advance the responsible and impactful use of AI.\\nYour Experience\\nWe are looking for fellows who represent a balance of technical competence and alignment with Foundation values.\\n\\u2022\\nEducation:\\nCandidates must hold a Bachelor\\u2019s or Master\\u2019s degree (in Computer Science, Data Science, Engineering, Applied Math or relevant field).\\n\\u2022\\nAI Technology:\\nProficiency in ML/AI modeling, software engineering, model evaluation, LLM deployment, and data wrangling, with evidence of applied coursework, research, internships, or early professional experience.\\n\\u2022\\nAI Applications:\\nDemonstrated interest in applying AI to fields such as health systems, agriculture, diagnostics, or education, with enthusiasm and literacy to use modern AI tools safely and pragmatically (direct AI research experience not required).\\n\\u2022\\nCollaborative Mindset:\\nStrong teamwork and adaptability, with experience working cross-functionally in complex environments.\\n\\u2022\\nCommunication Skills:\\nDemonstrated ability to clearly articulate technical concepts and recommendations to both technical and non-technical audiences.\\n\\u2022\\nMission-Driven Ethos:\\nDeep motivation to apply AI responsibly for public good, with alignment to equitable development and global health impact.\\n\\u2022\\nBuilder and Teacher Mindset:\\nHands-on experience building prototypes with LLMs (e.g., using open-source tools or API-based platforms) and a willingness to share learnings openly. Ability to teach and enable others, not just deliver technical outputs.\\nWhy you should consider becoming a Gates AI Fellow\\n\\u2022\\nApply AI where it matters most:\\nWork on problems core to the Foundation\\u2019s mission\\u2014health, development, and education so more people can live healthy, productive lives.\\n\\u2022\\nDrive outsized results in LMICs:\\nAim solutions at countries and communities the Foundation prioritizes, where innovation can move the needle fastest.\\n\\u2022\\nAdvance digital public goods:\\nContribute to safe, inclusive digital public infrastructure and health innovation efforts where AI can accelerate access and equity. Partner with Program Strategy Teams to deliver tangible prototypes, tools, and analyses.\\n\\u2022\\nTap into a uniquely powerful network:\\nCollaborate across multilaterals, NGOs, academia, and industry through the Foundation\\u2019s partnership model.\\n\\u2022\\nStand on a global platform:\\nBenefit from the credibility and reach of a foundation funding work in over 140 countries.\\n\\u2022\\nLead from day one:\\nOwn high-priority projects with clear outcomes and stakeholders.\\n\\u2022\\nGrow faster with expert mentorship:\\nLearn from leaders across AI, health, development, and policy while building a portfolio of real-world impact.\\n\\u2022\\nCompensation:\\nThe fellowship offers a starting salary of $148,920\\u2013$162,350, depending on work location. To ensure equity, all AI Fellows receive the same compensation within this structure.\\n\\u2022\\nBenefits:\\nWe believe our employees should reflect the rich diversity of the global populations we aim to serve. We provide an exceptional benefits package to employees and their families which include comprehensive medical, dental, and vision coverage with no premiums, generous paid time off, paid family leave, foundation-paid retirement contribution, regional holidays, and opportunities to engage in several employee communities. As a workplace, we\\u2019re committed to creating an environment for you to thrive both personally and professionally.\\n\\u2022\\nMedical, Dental and Vision Coverage:\\nThe foundation pays 100% of monthly premiums for medical, vision, dental, identity theft protection, and the employee assistance program for employees, spouses/domestic partners, and children to age 26, as well as basic life insurance, disability, business travel accident, and emergency travel assistance for eligible employees.\\n\\u2022\\nFoundation Sharing Retirement Plan:\\nThe foundation contributes an amount equal to 15% of eligible employee compensation (subject to IRS limitations*) quarterly to the foundation sharing plan on your behalf.\\n\\u2022\\nVacation Time:\\nYou may take the time you need for vacation so you can return to work able to contribute fully to the foundation\\u2019s mission. The approval of time off requests is subject to business needs, reasonable management discretion, and your professional commitments. You are eligible to accrue paid time off for vacation at a rate equivalent to 15 days per year.\\n\\u2022\\nSick Time:\\nYou are eligible for up to 12 paid sick days\\n\\u2022\\nPersonal Time & Holidays:\\nIn addition to vacation and sick leave, the foundation provides personal days, paid holidays, and end-of-year closure.\\n\\u2022\\nEmployee Matching Gifts:\\nThe foundation will match employee contributions up to $10,000 per year to eligible organizations at a rate of three dollars for every one dollar contributed.\\n\\u2022\\nAdditional Benefits:\\nEmployee Assistance Program, Identity Theft Protection, Caregiver Leave, Parental Bonding Leave, and more.\\nFrequently Asked Questions (FAQs)\\nQ: Who is eligible to apply?\\nA:\\nApplicants must hold at least a Bachelor\\u2019s or Master\\u2019s degree in Computer Science, Data Science, Engineering, Applied Math, or a related field. You must also have the legal right to work in the country where the position is based, as visa sponsorship is not available.\\nQ: Do I need prior experience in global health or development?\\nA:\\nNot necessarily. While experience is helpful, what matters most is demonstrated technical competence in AI/ML and a strong motivation to apply AI responsibly for public good.\\nQ: When is the application deadline?\\nA:\\nApplications are due by EOD Friday, September 17, 2025 to be considered for the November 2025 cohort.\\nQ: What is the application process for the AI Fellowship Program?\\nA:\\nWhile the process may evolve based on business needs, all applicants can generally expect the following steps:\\n\\u2022 Application Review \\u2013 Your application will be carefully reviewed by a team dedicated to this program.\\n\\u2022 Technical Assessment \\u2013 Qualified candidates will be invited to complete a technical exercise.\\n\\u2022 Talent Acquisition Conversation \\u2013 Candidates who pass the assessment will have an informational conversation with a Talent Acquisition colleague.\\n\\u2022 Final Interviews \\u2013 A combination of technical and behavioral panel-style interviews with foundation stakeholders.\\nNote: The order of these steps may be adjusted as needed based on business requirements.\\nQ: Is this a full-time position?\\nA:\\nYes. Fellows are full-time employees of the Gates Foundation for the duration of the 12-month fellowship.\\nQ: Where will Fellows be located?\\nA:\\nFellows can be based remotely in the U.S. or in the Seattle, WA office. Some roles may involve international travel (up to 30%).\\nHiring Requirements\\nAs part of our standard hiring process for new employees, employment will be contingent upon successful completion of a background check.\\nCandidate Accommodations\\nIf you require assistance due to a disability in the application or recruitment process, please submit a request http://forms.office.com/pages/responsepage.aspx?id=ODhrKdVLbEm9S_RW6nQ7dA6ethIGP9NAlRemHliH1cRUNUNENkZROTRQVk1HTDhJMktOTUZLVzE4US4u&web=1&wdLOR=cBC7FD42D-01C7-4C1B-80E3-B29970D716AC.\\nInclusion Statement\\nWe are dedicated to the belief that all lives have equal value. We strive for a global and cultural workplace that supports ever greater diversity, equity, and inclusion \\u2014 of voices, ideas, and approaches \\u2014 and we support this diversity through all our employment practices.\\nAll applicants and employees who are drawn to serve our mission will enjoy equality of opportunity and fair treatment without regard to race, color, age, religion, pregnancy, sex, sexual orientation, disability, gender identity, gender expression, national origin, genetic information, veteran status, marital status, and prior protected activity.\\nTo apply:\\nhttps://apptrkr.com/6548552\",\n          \"At\\nDynamo AI\\n, we believe that LLMs must be developed with privacy, safety, and real-world responsibility in mind. Our ML team comes from a culture of academic research driven to democratize AI advancements responsibly. By operating at the intersection of ML research and industry applications, our team empowers Fortune 500 companies\\u2019 adoption of frontier research for their next generation of LLM products. Join us if you:\\u2022 Wish to work on the premier platform for private and personalized LLMs. We provide the fastest end to end solution to deploy research in the real world with our fast-paced team of ML Ph.D.\\u2019s and builders, free of Big Tech / academic bureaucracy and constraints.\\u2022 Are excited at the idea of democratizing state-of-the-art research on safe and responsible AI.\\u2022 Are motivated to work at a\\n2023 CB Insights Top 100 AI Startup\\nand see your impact on end customers in the timeframe of weeks not years.\\u2022 Care about building a platform to empower fair, unbiased, and responsible development of LLMs and don\\u2019t accept the status quo of sacrificing user privacy for the sake of ML advancement.\\nResponsibilities\\nWork directly with customers to assess and enhance their AI/ML security posture, providing expert guidance and support.\\nDesign and implement architectural patterns and proof of concepts for secure SaaS-based platform deployments.\\nCollaborate with cross-functional teams, including Product Managers and Engineers, to gather customer requirements and influence product direction to better solve customers security problems\\nQualifications\\nSignificant experience deploying and securing production AI/ML infrastructure in complex environments.\\nDeep understanding of popular security posture management tools and practices.\\nStrong familiarity with AI/ML concepts, LLM implementations and their security implications.\\nPrevious experience in security services setup or at a large SaaS security company is highly desirable.\\nDynamo AI is committed to maintaining compliance with all applicable local and state laws regarding job listings and salary transparency. This includes adhering to specific regulations that mandate the disclosure of salary ranges in job postings or upon request during the hiring process. We strive to ensure our practices promote fairness, equity, and transparency for all candidates.\\nSalary for this position may vary based on several factors, including the candidate's experience, expertise, and the geographic location of the role. Compensation is determined to ensure competitiveness and equity, reflecting the cost of living in different regions and the specific skills and qualifications of the candidate.\"\n        ],\n        \"semantic_type\": \"\",\n        \"description\": \"\"\n      }\n    },\n    {\n      \"column\": \"Salary Range:\",\n      \"properties\": {\n        \"dtype\": \"category\",\n        \"num_unique_values\": 3,\n        \"samples\": [\n          \"$87,264\",\n          \"$180,000 - $440,000\",\n          \"$137,750 - $237,500\"\n        ],\n        \"semantic_type\": \"\",\n        \"description\": \"\"\n      }\n    }\n  ]\n}"
            }
          },
          "metadata": {},
          "execution_count": 13
        }
      ],
      "source": [
        "df.head(10)"
      ]
    },
    {
      "cell_type": "code",
      "execution_count": 14,
      "id": "bf8b0c05-a355-411d-acee-5850b20b3439",
      "metadata": {
        "id": "bf8b0c05-a355-411d-acee-5850b20b3439"
      },
      "outputs": [],
      "source": [
        "df.to_csv('data/job_data.csv')"
      ]
    },
    {
      "cell_type": "code",
      "execution_count": 20,
      "id": "dfc2904f-49a0-4726-b267-3d2389b9b07b",
      "metadata": {
        "id": "dfc2904f-49a0-4726-b267-3d2389b9b07b"
      },
      "outputs": [],
      "source": [
        "import pandas as pd\n",
        "sample_data = [\n",
        "    {\"Job Title\": \"AI Engineer\", \"Job Description\": \"Build AI models.\", \"Salary Range:\": \"$100,000 - $400,000\"},\n",
        "    # Add more rows as needed\n",
        "]\n",
        "pd.DataFrame(sample_data).to_csv('data/job_data.csv', index=False)"
      ]
    },
    {
      "cell_type": "code",
      "source": [
        "import pandas as pd\n",
        "\n",
        "sample_data = [\n",
        "    {\"Job Title\": \"AI Engineer\", \"Job Description\": \"Build AI models using Python, TensorFlow, and Pandas for predictive analytics in e-commerce.\", \"Salary Range:\": \"$100,000 - $200,000\"},\n",
        "    {\"Job Title\": \"Machine Learning Specialist\", \"Job Description\": \"Develop ML algorithms with PyTorch and deploy on AWS for real-time fraud detection.\", \"Salary Range:\": \"$120,000 - $180,000\"},\n",
        "    {\"Job Title\": \"NLP Researcher\", \"Job Description\": \"Research advanced NLP models using BERT, GPT, and LangChain for conversational AI.\", \"Salary Range:\": \"$110,000 - $160,000\"},\n",
        "    {\"Job Title\": \"Computer Vision Engineer\", \"Job Description\": \"Implement computer vision solutions with OpenCV and deep learning for autonomous vehicles.\", \"Salary Range:\": \"$130,000 - $190,000\"},\n",
        "    {\"Job Title\": \"Data Scientist\", \"Job Description\": \"Analyze large datasets with SQL, Pandas, and NumPy to derive business insights.\", \"Salary Range:\": \"$90,000 - $150,000\"},\n",
        "    {\"Job Title\": \"MLOps Engineer\", \"Job Description\": \"Manage ML pipelines using Docker, Kubernetes, and MLOps tools for scalable deployments.\", \"Salary Range:\": \"$140,000 - $210,000\"},\n",
        "    {\"Job Title\": \"AI Ethics Specialist\", \"Job Description\": \"Evaluate AI models for bias using statistical methods and ethical frameworks.\", \"Salary Range:\": \"$95,000 - $145,000\"},\n",
        "    {\"Job Title\": \"Reinforcement Learning Expert\", \"Job Description\": \"Design RL agents with Python and TensorFlow for optimization in robotics.\", \"Salary Range:\": \"$125,000 - $185,000\"},\n",
        "    {\"Job Title\": \"Bioinformatics AI Analyst\", \"Job Description\": \"Apply ML to genomic data using BioPython and deep learning for drug discovery.\", \"Salary Range:\": \"$105,000 - $155,000\"},\n",
        "    {\"Job Title\": \"Edge Computing AI Developer\", \"Job Description\": \"Optimize AI models for edge devices with TensorFlow Lite and embedded systems.\", \"Salary Range:\": \"$115,000 - $170,000\"},\n",
        "    {\"Job Title\": \"Generative AI Artist\", \"Job Description\": \"Create generative models for art using Stable Diffusion, GANs, and Python.\", \"Salary Range:\": \"$85,000 - $135,000\"},\n",
        "    {\"Job Title\": \"AI Security Engineer\", \"Job Description\": \"Secure AI systems against adversarial attacks using robust ML techniques.\", \"Salary Range:\": \"$135,000 - $195,000\"},\n",
        "    {\"Job Title\": \"Healthcare AI Consultant\", \"Job Description\": \"Develop predictive models for patient outcomes using EHR data and scikit-learn.\", \"Salary Range:\": \"$100,000 - $160,000\"},\n",
        "    {\"Job Title\": \"Autonomous Systems Engineer\", \"Job Description\": \"Build AI for self-driving tech using sensor fusion, computer vision, and ROS.\", \"Salary Range:\": \"$145,000 - $220,000\"},\n",
        "    {\"Job Title\": \"Financial AI Modeler\", \"Job Description\": \"Model financial risks with time-series forecasting and LSTM networks in Python.\", \"Salary Range:\": \"$110,000 - $165,000\"},\n",
        "    {\"Job Title\": \"Environmental AI Analyst\", \"Job Description\": \"Analyze satellite data with ML to predict climate patterns using Python and GCP.\", \"Salary Range:\": \"$95,000 - $140,000\"},\n",
        "    {\"Job Title\": \"Educational AI Developer\", \"Job Description\": \"Create adaptive learning systems with recommendation engines and NLP.\", \"Salary Range:\": \"$90,000 - $130,000\"},\n",
        "    {\"Job Title\": \"Retail Analytics Specialist\", \"Job Description\": \"Optimize inventory with demand forecasting using Prophet and regression models.\", \"Salary Range:\": \"$105,000 - $150,000\"},\n",
        "    {\"Job Title\": \"Game AI Programmer\", \"Job Description\": \"Implement NPC behaviors using behavior trees and reinforcement learning in C++.\", \"Salary Range:\": \"$120,000 - $175,000\"},\n",
        "    {\"Job Title\": \"Aerospace AI Engineer\", \"Job Description\": \"Develop AI for satellite navigation and anomaly detection using Python and AWS.\", \"Salary Range:\": \"$130,000 - $190,000\"}\n",
        "]\n",
        "\n",
        "pd.DataFrame(sample_data).to_csv('data/job_data.csv', index=False)\n",
        "print(\"Sample job_data.csv created with 20 entries\")"
      ],
      "metadata": {
        "colab": {
          "base_uri": "https://localhost:8080/"
        },
        "id": "Tvm7V9iHVfFp",
        "outputId": "6626b701-b5c3-4eda-a35d-dbd5e150cd07"
      },
      "id": "Tvm7V9iHVfFp",
      "execution_count": 22,
      "outputs": [
        {
          "output_type": "stream",
          "name": "stdout",
          "text": [
            "Sample job_data.csv created with 20 entries\n"
          ]
        }
      ]
    },
    {
      "cell_type": "code",
      "source": [
        "!python ai-job-dashboard-gradio.py"
      ],
      "metadata": {
        "colab": {
          "base_uri": "https://localhost:8080/"
        },
        "id": "neI7ZadFPMd-",
        "outputId": "206499b0-0eb6-49d6-f849-e3d333b0c1c9"
      },
      "id": "neI7ZadFPMd-",
      "execution_count": 23,
      "outputs": [
        {
          "output_type": "stream",
          "name": "stdout",
          "text": [
            "* Running on local URL:  http://127.0.0.1:7860\n",
            "* Running on public URL: https://cb23610fea222db355.gradio.live\n",
            "\n",
            "This share link expires in 1 week. For free permanent hosting and GPU upgrades, run `gradio deploy` from the terminal in the working directory to deploy to Hugging Face Spaces (https://huggingface.co/spaces)\n",
            "Keyboard interruption in main thread... closing server.\n",
            "Traceback (most recent call last):\n",
            "  File \"/usr/local/lib/python3.12/dist-packages/gradio/blocks.py\", line 2958, in block_thread\n",
            "    time.sleep(0.1)\n",
            "KeyboardInterrupt\n",
            "\n",
            "During handling of the above exception, another exception occurred:\n",
            "\n",
            "Traceback (most recent call last):\n",
            "  File \"/content/ai-job-dashboard-gradio.py\", line 242, in <module>\n",
            "    gradio_interface().launch(share=True)\n",
            "  File \"/usr/local/lib/python3.12/dist-packages/gradio/blocks.py\", line 2865, in launch\n",
            "    self.block_thread()\n",
            "  File \"/usr/local/lib/python3.12/dist-packages/gradio/blocks.py\", line 2962, in block_thread\n",
            "    self.server.close()\n",
            "  File \"/usr/local/lib/python3.12/dist-packages/gradio/http_server.py\", line 69, in close\n",
            "    self.thread.join(timeout=5)\n",
            "  File \"/usr/lib/python3.12/threading.py\", line 1153, in join\n",
            "    self._wait_for_tstate_lock(timeout=max(timeout, 0))\n",
            "  File \"/usr/lib/python3.12/threading.py\", line 1169, in _wait_for_tstate_lock\n",
            "    if lock.acquire(block, timeout):\n",
            "       ^^^^^^^^^^^^^^^^^^^^^^^^^^^^\n",
            "KeyboardInterrupt\n",
            "Killing tunnel 127.0.0.1:7860 <> https://cb23610fea222db355.gradio.live\n",
            "^C\n"
          ]
        }
      ]
    }
  ],
  "metadata": {
    "kernelspec": {
      "display_name": "Python 3 (ipykernel)",
      "language": "python",
      "name": "python3"
    },
    "language_info": {
      "codemirror_mode": {
        "name": "ipython",
        "version": 3
      },
      "file_extension": ".py",
      "mimetype": "text/x-python",
      "name": "python",
      "nbconvert_exporter": "python",
      "pygments_lexer": "ipython3",
      "version": "3.13.5"
    },
    "colab": {
      "provenance": []
    }
  },
  "nbformat": 4,
  "nbformat_minor": 5
}